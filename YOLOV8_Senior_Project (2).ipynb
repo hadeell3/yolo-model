{
  "nbformat": 4,
  "nbformat_minor": 0,
  "metadata": {
    "colab": {
      "provenance": [],
      "gpuType": "T4",
      "machine_shape": "hm"
    },
    "kernelspec": {
      "name": "python3",
      "display_name": "Python 3"
    },
    "language_info": {
      "name": "python"
    },
    "accelerator": "GPU"
  },
  "cells": [
    {
      "cell_type": "code",
      "execution_count": 1,
      "metadata": {
        "colab": {
          "base_uri": "https://localhost:8080/"
        },
        "id": "cRQbEhRsbUXL",
        "outputId": "47748154-3085-4579-bc8d-183bb9838ba8"
      },
      "outputs": [
        {
          "output_type": "stream",
          "name": "stdout",
          "text": [
            "Collecting ocrspace\n",
            "  Downloading ocrspace-2.3.0.tar.gz (1.7 kB)\n",
            "  Preparing metadata (setup.py) ... \u001b[?25l\u001b[?25hdone\n",
            "Building wheels for collected packages: ocrspace\n",
            "  Building wheel for ocrspace (setup.py) ... \u001b[?25l\u001b[?25hdone\n",
            "  Created wheel for ocrspace: filename=ocrspace-2.3.0-py3-none-any.whl size=2295 sha256=143088e9efad09a07a23751326fe4fa1983a406261fdc1a41c509003e603995a\n",
            "  Stored in directory: /root/.cache/pip/wheels/df/94/66/ac30a5c180718ba47bd508848b8c71fb2004368fb966ad0d29\n",
            "Successfully built ocrspace\n",
            "Installing collected packages: ocrspace\n",
            "Successfully installed ocrspace-2.3.0\n"
          ]
        }
      ],
      "source": [
        "!pip install ocrspace\n",
        "import ocrspace\n",
        "api = ocrspace.API()\n",
        "api = ocrspace.API(endpoint='https://api.ocr.space/parse/image',\n",
        "                   api_key='K87006471788957', language=ocrspace.Language.English,\n",
        "                   detectOrientation=True, scale=True, OCREngine=2)\n"
      ]
    },
    {
      "cell_type": "code",
      "source": [
        "\n",
        "from google.colab import drive\n",
        "\n",
        "drive.mount('/content/gdrive')"
      ],
      "metadata": {
        "colab": {
          "base_uri": "https://localhost:8080/"
        },
        "id": "kccLfNjCbk2N",
        "outputId": "0124c894-f7c9-4295-c8cb-49803e89d85d"
      },
      "execution_count": 2,
      "outputs": [
        {
          "output_type": "stream",
          "name": "stdout",
          "text": [
            "Mounted at /content/gdrive\n"
          ]
        }
      ]
    },
    {
      "cell_type": "code",
      "source": [
        "!pip install ultralytics"
      ],
      "metadata": {
        "colab": {
          "base_uri": "https://localhost:8080/"
        },
        "id": "xjnzbpNVbxIz",
        "outputId": "5ae94e72-bb08-4e7a-dac8-42c532751a0f"
      },
      "execution_count": 3,
      "outputs": [
        {
          "output_type": "stream",
          "name": "stdout",
          "text": [
            "Collecting ultralytics\n",
            "  Downloading ultralytics-8.2.14-py3-none-any.whl (756 kB)\n",
            "\u001b[2K     \u001b[90m━━━━━━━━━━━━━━━━━━━━━━━━━━━━━━━━━━━━━━━━\u001b[0m \u001b[32m756.6/756.6 kB\u001b[0m \u001b[31m10.6 MB/s\u001b[0m eta \u001b[36m0:00:00\u001b[0m\n",
            "\u001b[?25hRequirement already satisfied: matplotlib>=3.3.0 in /usr/local/lib/python3.10/dist-packages (from ultralytics) (3.7.1)\n",
            "Requirement already satisfied: opencv-python>=4.6.0 in /usr/local/lib/python3.10/dist-packages (from ultralytics) (4.8.0.76)\n",
            "Requirement already satisfied: pillow>=7.1.2 in /usr/local/lib/python3.10/dist-packages (from ultralytics) (9.4.0)\n",
            "Requirement already satisfied: pyyaml>=5.3.1 in /usr/local/lib/python3.10/dist-packages (from ultralytics) (6.0.1)\n",
            "Requirement already satisfied: requests>=2.23.0 in /usr/local/lib/python3.10/dist-packages (from ultralytics) (2.31.0)\n",
            "Requirement already satisfied: scipy>=1.4.1 in /usr/local/lib/python3.10/dist-packages (from ultralytics) (1.11.4)\n",
            "Requirement already satisfied: torch>=1.8.0 in /usr/local/lib/python3.10/dist-packages (from ultralytics) (2.2.1+cu121)\n",
            "Requirement already satisfied: torchvision>=0.9.0 in /usr/local/lib/python3.10/dist-packages (from ultralytics) (0.17.1+cu121)\n",
            "Requirement already satisfied: tqdm>=4.64.0 in /usr/local/lib/python3.10/dist-packages (from ultralytics) (4.66.4)\n",
            "Requirement already satisfied: psutil in /usr/local/lib/python3.10/dist-packages (from ultralytics) (5.9.5)\n",
            "Requirement already satisfied: py-cpuinfo in /usr/local/lib/python3.10/dist-packages (from ultralytics) (9.0.0)\n",
            "Collecting thop>=0.1.1 (from ultralytics)\n",
            "  Downloading thop-0.1.1.post2209072238-py3-none-any.whl (15 kB)\n",
            "Requirement already satisfied: pandas>=1.1.4 in /usr/local/lib/python3.10/dist-packages (from ultralytics) (2.0.3)\n",
            "Requirement already satisfied: seaborn>=0.11.0 in /usr/local/lib/python3.10/dist-packages (from ultralytics) (0.13.1)\n",
            "Requirement already satisfied: contourpy>=1.0.1 in /usr/local/lib/python3.10/dist-packages (from matplotlib>=3.3.0->ultralytics) (1.2.1)\n",
            "Requirement already satisfied: cycler>=0.10 in /usr/local/lib/python3.10/dist-packages (from matplotlib>=3.3.0->ultralytics) (0.12.1)\n",
            "Requirement already satisfied: fonttools>=4.22.0 in /usr/local/lib/python3.10/dist-packages (from matplotlib>=3.3.0->ultralytics) (4.51.0)\n",
            "Requirement already satisfied: kiwisolver>=1.0.1 in /usr/local/lib/python3.10/dist-packages (from matplotlib>=3.3.0->ultralytics) (1.4.5)\n",
            "Requirement already satisfied: numpy>=1.20 in /usr/local/lib/python3.10/dist-packages (from matplotlib>=3.3.0->ultralytics) (1.25.2)\n",
            "Requirement already satisfied: packaging>=20.0 in /usr/local/lib/python3.10/dist-packages (from matplotlib>=3.3.0->ultralytics) (24.0)\n",
            "Requirement already satisfied: pyparsing>=2.3.1 in /usr/local/lib/python3.10/dist-packages (from matplotlib>=3.3.0->ultralytics) (3.1.2)\n",
            "Requirement already satisfied: python-dateutil>=2.7 in /usr/local/lib/python3.10/dist-packages (from matplotlib>=3.3.0->ultralytics) (2.8.2)\n",
            "Requirement already satisfied: pytz>=2020.1 in /usr/local/lib/python3.10/dist-packages (from pandas>=1.1.4->ultralytics) (2023.4)\n",
            "Requirement already satisfied: tzdata>=2022.1 in /usr/local/lib/python3.10/dist-packages (from pandas>=1.1.4->ultralytics) (2024.1)\n",
            "Requirement already satisfied: charset-normalizer<4,>=2 in /usr/local/lib/python3.10/dist-packages (from requests>=2.23.0->ultralytics) (3.3.2)\n",
            "Requirement already satisfied: idna<4,>=2.5 in /usr/local/lib/python3.10/dist-packages (from requests>=2.23.0->ultralytics) (3.7)\n",
            "Requirement already satisfied: urllib3<3,>=1.21.1 in /usr/local/lib/python3.10/dist-packages (from requests>=2.23.0->ultralytics) (2.0.7)\n",
            "Requirement already satisfied: certifi>=2017.4.17 in /usr/local/lib/python3.10/dist-packages (from requests>=2.23.0->ultralytics) (2024.2.2)\n",
            "Requirement already satisfied: filelock in /usr/local/lib/python3.10/dist-packages (from torch>=1.8.0->ultralytics) (3.14.0)\n",
            "Requirement already satisfied: typing-extensions>=4.8.0 in /usr/local/lib/python3.10/dist-packages (from torch>=1.8.0->ultralytics) (4.11.0)\n",
            "Requirement already satisfied: sympy in /usr/local/lib/python3.10/dist-packages (from torch>=1.8.0->ultralytics) (1.12)\n",
            "Requirement already satisfied: networkx in /usr/local/lib/python3.10/dist-packages (from torch>=1.8.0->ultralytics) (3.3)\n",
            "Requirement already satisfied: jinja2 in /usr/local/lib/python3.10/dist-packages (from torch>=1.8.0->ultralytics) (3.1.4)\n",
            "Requirement already satisfied: fsspec in /usr/local/lib/python3.10/dist-packages (from torch>=1.8.0->ultralytics) (2023.6.0)\n",
            "Collecting nvidia-cuda-nvrtc-cu12==12.1.105 (from torch>=1.8.0->ultralytics)\n",
            "  Using cached nvidia_cuda_nvrtc_cu12-12.1.105-py3-none-manylinux1_x86_64.whl (23.7 MB)\n",
            "Collecting nvidia-cuda-runtime-cu12==12.1.105 (from torch>=1.8.0->ultralytics)\n",
            "  Using cached nvidia_cuda_runtime_cu12-12.1.105-py3-none-manylinux1_x86_64.whl (823 kB)\n",
            "Collecting nvidia-cuda-cupti-cu12==12.1.105 (from torch>=1.8.0->ultralytics)\n",
            "  Using cached nvidia_cuda_cupti_cu12-12.1.105-py3-none-manylinux1_x86_64.whl (14.1 MB)\n",
            "Collecting nvidia-cudnn-cu12==8.9.2.26 (from torch>=1.8.0->ultralytics)\n",
            "  Using cached nvidia_cudnn_cu12-8.9.2.26-py3-none-manylinux1_x86_64.whl (731.7 MB)\n",
            "Collecting nvidia-cublas-cu12==12.1.3.1 (from torch>=1.8.0->ultralytics)\n",
            "  Using cached nvidia_cublas_cu12-12.1.3.1-py3-none-manylinux1_x86_64.whl (410.6 MB)\n",
            "Collecting nvidia-cufft-cu12==11.0.2.54 (from torch>=1.8.0->ultralytics)\n",
            "  Using cached nvidia_cufft_cu12-11.0.2.54-py3-none-manylinux1_x86_64.whl (121.6 MB)\n",
            "Collecting nvidia-curand-cu12==10.3.2.106 (from torch>=1.8.0->ultralytics)\n",
            "  Using cached nvidia_curand_cu12-10.3.2.106-py3-none-manylinux1_x86_64.whl (56.5 MB)\n",
            "Collecting nvidia-cusolver-cu12==11.4.5.107 (from torch>=1.8.0->ultralytics)\n",
            "  Using cached nvidia_cusolver_cu12-11.4.5.107-py3-none-manylinux1_x86_64.whl (124.2 MB)\n",
            "Collecting nvidia-cusparse-cu12==12.1.0.106 (from torch>=1.8.0->ultralytics)\n",
            "  Using cached nvidia_cusparse_cu12-12.1.0.106-py3-none-manylinux1_x86_64.whl (196.0 MB)\n",
            "Collecting nvidia-nccl-cu12==2.19.3 (from torch>=1.8.0->ultralytics)\n",
            "  Using cached nvidia_nccl_cu12-2.19.3-py3-none-manylinux1_x86_64.whl (166.0 MB)\n",
            "Collecting nvidia-nvtx-cu12==12.1.105 (from torch>=1.8.0->ultralytics)\n",
            "  Using cached nvidia_nvtx_cu12-12.1.105-py3-none-manylinux1_x86_64.whl (99 kB)\n",
            "Requirement already satisfied: triton==2.2.0 in /usr/local/lib/python3.10/dist-packages (from torch>=1.8.0->ultralytics) (2.2.0)\n",
            "Collecting nvidia-nvjitlink-cu12 (from nvidia-cusolver-cu12==11.4.5.107->torch>=1.8.0->ultralytics)\n",
            "  Using cached nvidia_nvjitlink_cu12-12.4.127-py3-none-manylinux2014_x86_64.whl (21.1 MB)\n",
            "Requirement already satisfied: six>=1.5 in /usr/local/lib/python3.10/dist-packages (from python-dateutil>=2.7->matplotlib>=3.3.0->ultralytics) (1.16.0)\n",
            "Requirement already satisfied: MarkupSafe>=2.0 in /usr/local/lib/python3.10/dist-packages (from jinja2->torch>=1.8.0->ultralytics) (2.1.5)\n",
            "Requirement already satisfied: mpmath>=0.19 in /usr/local/lib/python3.10/dist-packages (from sympy->torch>=1.8.0->ultralytics) (1.3.0)\n",
            "Installing collected packages: nvidia-nvtx-cu12, nvidia-nvjitlink-cu12, nvidia-nccl-cu12, nvidia-curand-cu12, nvidia-cufft-cu12, nvidia-cuda-runtime-cu12, nvidia-cuda-nvrtc-cu12, nvidia-cuda-cupti-cu12, nvidia-cublas-cu12, nvidia-cusparse-cu12, nvidia-cudnn-cu12, nvidia-cusolver-cu12, thop, ultralytics\n",
            "Successfully installed nvidia-cublas-cu12-12.1.3.1 nvidia-cuda-cupti-cu12-12.1.105 nvidia-cuda-nvrtc-cu12-12.1.105 nvidia-cuda-runtime-cu12-12.1.105 nvidia-cudnn-cu12-8.9.2.26 nvidia-cufft-cu12-11.0.2.54 nvidia-curand-cu12-10.3.2.106 nvidia-cusolver-cu12-11.4.5.107 nvidia-cusparse-cu12-12.1.0.106 nvidia-nccl-cu12-2.19.3 nvidia-nvjitlink-cu12-12.4.127 nvidia-nvtx-cu12-12.1.105 thop-0.1.1.post2209072238 ultralytics-8.2.14\n"
          ]
        }
      ]
    },
    {
      "cell_type": "code",
      "source": [
        "import os\n",
        "from ultralytics import YOLO\n",
        "ROOT_DIR = '/content/gdrive/MyDrive/YOLODATASET_S'\n",
        "model = YOLO(\"yolov8n.pt\")\n",
        "\n",
        "results = model.train(\n",
        "    data=os.path.join(ROOT_DIR, \"data.yaml\"),\n",
        "    epochs=50,\n",
        "    batch=8,\n",
        "    optimizer='AdamW',\n",
        "    lr0=0.001429\n",
        ")"
      ],
      "metadata": {
        "colab": {
          "base_uri": "https://localhost:8080/"
        },
        "id": "3wiSUwcCz6CK",
        "outputId": "3ac18b41-aa8b-4f96-82a1-a1e4847c09fc"
      },
      "execution_count": 4,
      "outputs": [
        {
          "output_type": "stream",
          "name": "stdout",
          "text": [
            "Downloading https://github.com/ultralytics/assets/releases/download/v8.2.0/yolov8n.pt to 'yolov8n.pt'...\n"
          ]
        },
        {
          "output_type": "stream",
          "name": "stderr",
          "text": [
            "100%|██████████| 6.23M/6.23M [00:00<00:00, 25.4MB/s]\n"
          ]
        },
        {
          "output_type": "stream",
          "name": "stdout",
          "text": [
            "Ultralytics YOLOv8.2.14 🚀 Python-3.10.12 torch-2.2.1+cu121 CUDA:0 (Tesla T4, 15102MiB)\n",
            "\u001b[34m\u001b[1mengine/trainer: \u001b[0mtask=detect, mode=train, model=yolov8n.pt, data=/content/gdrive/MyDrive/YOLODATASET_S/data.yaml, epochs=50, time=None, patience=100, batch=8, imgsz=640, save=True, save_period=-1, cache=False, device=None, workers=8, project=None, name=train, exist_ok=False, pretrained=True, optimizer=AdamW, verbose=True, seed=0, deterministic=True, single_cls=False, rect=False, cos_lr=False, close_mosaic=10, resume=False, amp=True, fraction=1.0, profile=False, freeze=None, multi_scale=False, overlap_mask=True, mask_ratio=4, dropout=0.0, val=True, split=val, save_json=False, save_hybrid=False, conf=None, iou=0.7, max_det=300, half=False, dnn=False, plots=True, source=None, vid_stride=1, stream_buffer=False, visualize=False, augment=False, agnostic_nms=False, classes=None, retina_masks=False, embed=None, show=False, save_frames=False, save_txt=False, save_conf=False, save_crop=False, show_labels=True, show_conf=True, show_boxes=True, line_width=None, format=torchscript, keras=False, optimize=False, int8=False, dynamic=False, simplify=False, opset=None, workspace=4, nms=False, lr0=0.001429, lrf=0.01, momentum=0.937, weight_decay=0.0005, warmup_epochs=3.0, warmup_momentum=0.8, warmup_bias_lr=0.1, box=7.5, cls=0.5, dfl=1.5, pose=12.0, kobj=1.0, label_smoothing=0.0, nbs=64, hsv_h=0.015, hsv_s=0.7, hsv_v=0.4, degrees=0.0, translate=0.1, scale=0.5, shear=0.0, perspective=0.0, flipud=0.0, fliplr=0.5, bgr=0.0, mosaic=1.0, mixup=0.0, copy_paste=0.0, auto_augment=randaugment, erasing=0.4, crop_fraction=1.0, cfg=None, tracker=botsort.yaml, save_dir=runs/detect/train\n",
            "Downloading https://ultralytics.com/assets/Arial.ttf to '/root/.config/Ultralytics/Arial.ttf'...\n"
          ]
        },
        {
          "output_type": "stream",
          "name": "stderr",
          "text": [
            "100%|██████████| 755k/755k [00:00<00:00, 5.16MB/s]\n"
          ]
        },
        {
          "output_type": "stream",
          "name": "stdout",
          "text": [
            "Overriding model.yaml nc=80 with nc=3\n",
            "\n",
            "                   from  n    params  module                                       arguments                     \n",
            "  0                  -1  1       464  ultralytics.nn.modules.conv.Conv             [3, 16, 3, 2]                 \n",
            "  1                  -1  1      4672  ultralytics.nn.modules.conv.Conv             [16, 32, 3, 2]                \n",
            "  2                  -1  1      7360  ultralytics.nn.modules.block.C2f             [32, 32, 1, True]             \n",
            "  3                  -1  1     18560  ultralytics.nn.modules.conv.Conv             [32, 64, 3, 2]                \n",
            "  4                  -1  2     49664  ultralytics.nn.modules.block.C2f             [64, 64, 2, True]             \n",
            "  5                  -1  1     73984  ultralytics.nn.modules.conv.Conv             [64, 128, 3, 2]               \n",
            "  6                  -1  2    197632  ultralytics.nn.modules.block.C2f             [128, 128, 2, True]           \n",
            "  7                  -1  1    295424  ultralytics.nn.modules.conv.Conv             [128, 256, 3, 2]              \n",
            "  8                  -1  1    460288  ultralytics.nn.modules.block.C2f             [256, 256, 1, True]           \n",
            "  9                  -1  1    164608  ultralytics.nn.modules.block.SPPF            [256, 256, 5]                 \n",
            " 10                  -1  1         0  torch.nn.modules.upsampling.Upsample         [None, 2, 'nearest']          \n",
            " 11             [-1, 6]  1         0  ultralytics.nn.modules.conv.Concat           [1]                           \n",
            " 12                  -1  1    148224  ultralytics.nn.modules.block.C2f             [384, 128, 1]                 \n",
            " 13                  -1  1         0  torch.nn.modules.upsampling.Upsample         [None, 2, 'nearest']          \n",
            " 14             [-1, 4]  1         0  ultralytics.nn.modules.conv.Concat           [1]                           \n",
            " 15                  -1  1     37248  ultralytics.nn.modules.block.C2f             [192, 64, 1]                  \n",
            " 16                  -1  1     36992  ultralytics.nn.modules.conv.Conv             [64, 64, 3, 2]                \n",
            " 17            [-1, 12]  1         0  ultralytics.nn.modules.conv.Concat           [1]                           \n",
            " 18                  -1  1    123648  ultralytics.nn.modules.block.C2f             [192, 128, 1]                 \n",
            " 19                  -1  1    147712  ultralytics.nn.modules.conv.Conv             [128, 128, 3, 2]              \n",
            " 20             [-1, 9]  1         0  ultralytics.nn.modules.conv.Concat           [1]                           \n",
            " 21                  -1  1    493056  ultralytics.nn.modules.block.C2f             [384, 256, 1]                 \n",
            " 22        [15, 18, 21]  1    751897  ultralytics.nn.modules.head.Detect           [3, [64, 128, 256]]           \n",
            "Model summary: 225 layers, 3011433 parameters, 3011417 gradients, 8.2 GFLOPs\n",
            "\n",
            "Transferred 319/355 items from pretrained weights\n",
            "\u001b[34m\u001b[1mTensorBoard: \u001b[0mStart with 'tensorboard --logdir runs/detect/train', view at http://localhost:6006/\n",
            "Freezing layer 'model.22.dfl.conv.weight'\n",
            "\u001b[34m\u001b[1mAMP: \u001b[0mrunning Automatic Mixed Precision (AMP) checks with YOLOv8n...\n",
            "\u001b[34m\u001b[1mAMP: \u001b[0mchecks passed ✅\n"
          ]
        },
        {
          "output_type": "stream",
          "name": "stderr",
          "text": [
            "\u001b[34m\u001b[1mtrain: \u001b[0mScanning /content/gdrive/MyDrive/YOLODATASET_S/train/labels.cache... 227 images, 0 backgrounds, 0 corrupt: 100%|██████████| 227/227 [00:00<?, ?it/s]\n"
          ]
        },
        {
          "output_type": "stream",
          "name": "stdout",
          "text": [
            "\u001b[34m\u001b[1malbumentations: \u001b[0mBlur(p=0.01, blur_limit=(3, 7)), MedianBlur(p=0.01, blur_limit=(3, 7)), ToGray(p=0.01), CLAHE(p=0.01, clip_limit=(1, 4.0), tile_grid_size=(8, 8))\n"
          ]
        },
        {
          "output_type": "stream",
          "name": "stderr",
          "text": [
            "/usr/lib/python3.10/multiprocessing/popen_fork.py:66: RuntimeWarning: os.fork() was called. os.fork() is incompatible with multithreaded code, and JAX is multithreaded, so this will likely lead to a deadlock.\n",
            "  self.pid = os.fork()\n",
            "\u001b[34m\u001b[1mval: \u001b[0mScanning /content/gdrive/MyDrive/YOLODATASET_S/valid/labels.cache... 32 images, 0 backgrounds, 0 corrupt: 100%|██████████| 32/32 [00:00<?, ?it/s]\n"
          ]
        },
        {
          "output_type": "stream",
          "name": "stdout",
          "text": [
            "Plotting labels to runs/detect/train/labels.jpg... \n",
            "\u001b[34m\u001b[1moptimizer:\u001b[0m AdamW(lr=0.001429, momentum=0.937) with parameter groups 57 weight(decay=0.0), 64 weight(decay=0.0005), 63 bias(decay=0.0)\n",
            "\u001b[34m\u001b[1mTensorBoard: \u001b[0mmodel graph visualization added ✅\n",
            "Image sizes 640 train, 640 val\n",
            "Using 8 dataloader workers\n",
            "Logging results to \u001b[1mruns/detect/train\u001b[0m\n",
            "Starting training for 50 epochs...\n",
            "\n",
            "      Epoch    GPU_mem   box_loss   cls_loss   dfl_loss  Instances       Size\n"
          ]
        },
        {
          "output_type": "stream",
          "name": "stderr",
          "text": [
            "       1/50      1.23G       1.97      3.371      1.565         21        640: 100%|██████████| 29/29 [00:05<00:00,  4.93it/s]\n",
            "                 Class     Images  Instances      Box(P          R      mAP50  mAP50-95): 100%|██████████| 2/2 [00:01<00:00,  1.38it/s]"
          ]
        },
        {
          "output_type": "stream",
          "name": "stdout",
          "text": [
            "                   all         32         96     0.0141      0.958      0.587      0.338\n"
          ]
        },
        {
          "output_type": "stream",
          "name": "stderr",
          "text": [
            "\n"
          ]
        },
        {
          "output_type": "stream",
          "name": "stdout",
          "text": [
            "\n",
            "      Epoch    GPU_mem   box_loss   cls_loss   dfl_loss  Instances       Size\n"
          ]
        },
        {
          "output_type": "stream",
          "name": "stderr",
          "text": [
            "       2/50      1.21G      1.664      1.968      1.382          6        640: 100%|██████████| 29/29 [00:02<00:00, 10.17it/s]\n",
            "                 Class     Images  Instances      Box(P          R      mAP50  mAP50-95): 100%|██████████| 2/2 [00:00<00:00,  9.18it/s]"
          ]
        },
        {
          "output_type": "stream",
          "name": "stdout",
          "text": [
            "                   all         32         96          1      0.207       0.67      0.381\n"
          ]
        },
        {
          "output_type": "stream",
          "name": "stderr",
          "text": [
            "\n"
          ]
        },
        {
          "output_type": "stream",
          "name": "stdout",
          "text": [
            "\n",
            "      Epoch    GPU_mem   box_loss   cls_loss   dfl_loss  Instances       Size\n"
          ]
        },
        {
          "output_type": "stream",
          "name": "stderr",
          "text": [
            "       3/50      1.21G      1.624      1.749      1.366         17        640: 100%|██████████| 29/29 [00:02<00:00, 10.23it/s]\n",
            "                 Class     Images  Instances      Box(P          R      mAP50  mAP50-95): 100%|██████████| 2/2 [00:00<00:00,  9.17it/s]"
          ]
        },
        {
          "output_type": "stream",
          "name": "stdout",
          "text": [
            "                   all         32         96      0.612      0.792      0.678      0.374\n"
          ]
        },
        {
          "output_type": "stream",
          "name": "stderr",
          "text": [
            "\n"
          ]
        },
        {
          "output_type": "stream",
          "name": "stdout",
          "text": [
            "\n",
            "      Epoch    GPU_mem   box_loss   cls_loss   dfl_loss  Instances       Size\n"
          ]
        },
        {
          "output_type": "stream",
          "name": "stderr",
          "text": [
            "       4/50       1.2G      1.584      1.636      1.334         11        640: 100%|██████████| 29/29 [00:02<00:00, 10.99it/s]\n",
            "                 Class     Images  Instances      Box(P          R      mAP50  mAP50-95): 100%|██████████| 2/2 [00:00<00:00, 10.03it/s]"
          ]
        },
        {
          "output_type": "stream",
          "name": "stdout",
          "text": [
            "                   all         32         96      0.607      0.918      0.697      0.379\n"
          ]
        },
        {
          "output_type": "stream",
          "name": "stderr",
          "text": [
            "\n"
          ]
        },
        {
          "output_type": "stream",
          "name": "stdout",
          "text": [
            "\n",
            "      Epoch    GPU_mem   box_loss   cls_loss   dfl_loss  Instances       Size\n"
          ]
        },
        {
          "output_type": "stream",
          "name": "stderr",
          "text": [
            "       5/50      1.21G      1.553      1.542      1.287         17        640: 100%|██████████| 29/29 [00:02<00:00, 11.14it/s]\n",
            "                 Class     Images  Instances      Box(P          R      mAP50  mAP50-95): 100%|██████████| 2/2 [00:00<00:00,  8.46it/s]"
          ]
        },
        {
          "output_type": "stream",
          "name": "stdout",
          "text": [
            "                   all         32         96      0.659      0.896      0.691      0.404\n"
          ]
        },
        {
          "output_type": "stream",
          "name": "stderr",
          "text": [
            "\n"
          ]
        },
        {
          "output_type": "stream",
          "name": "stdout",
          "text": [
            "\n",
            "      Epoch    GPU_mem   box_loss   cls_loss   dfl_loss  Instances       Size\n"
          ]
        },
        {
          "output_type": "stream",
          "name": "stderr",
          "text": [
            "       6/50      1.21G      1.537      1.531        1.3          8        640: 100%|██████████| 29/29 [00:02<00:00, 10.54it/s]\n",
            "                 Class     Images  Instances      Box(P          R      mAP50  mAP50-95): 100%|██████████| 2/2 [00:00<00:00,  9.05it/s]"
          ]
        },
        {
          "output_type": "stream",
          "name": "stdout",
          "text": [
            "                   all         32         96      0.655      0.948      0.718      0.406\n"
          ]
        },
        {
          "output_type": "stream",
          "name": "stderr",
          "text": [
            "\n"
          ]
        },
        {
          "output_type": "stream",
          "name": "stdout",
          "text": [
            "\n",
            "      Epoch    GPU_mem   box_loss   cls_loss   dfl_loss  Instances       Size\n"
          ]
        },
        {
          "output_type": "stream",
          "name": "stderr",
          "text": [
            "       7/50      1.21G      1.486      1.428      1.263         15        640: 100%|██████████| 29/29 [00:02<00:00, 10.16it/s]\n",
            "                 Class     Images  Instances      Box(P          R      mAP50  mAP50-95): 100%|██████████| 2/2 [00:00<00:00,  9.28it/s]"
          ]
        },
        {
          "output_type": "stream",
          "name": "stdout",
          "text": [
            "                   all         32         96      0.638       0.95      0.704      0.386\n"
          ]
        },
        {
          "output_type": "stream",
          "name": "stderr",
          "text": [
            "\n"
          ]
        },
        {
          "output_type": "stream",
          "name": "stdout",
          "text": [
            "\n",
            "      Epoch    GPU_mem   box_loss   cls_loss   dfl_loss  Instances       Size\n"
          ]
        },
        {
          "output_type": "stream",
          "name": "stderr",
          "text": [
            "       8/50      1.21G      1.535      1.423      1.307         19        640: 100%|██████████| 29/29 [00:02<00:00, 10.50it/s]\n",
            "                 Class     Images  Instances      Box(P          R      mAP50  mAP50-95): 100%|██████████| 2/2 [00:00<00:00,  8.76it/s]"
          ]
        },
        {
          "output_type": "stream",
          "name": "stdout",
          "text": [
            "                   all         32         96      0.658      0.985      0.717      0.399\n"
          ]
        },
        {
          "output_type": "stream",
          "name": "stderr",
          "text": [
            "\n"
          ]
        },
        {
          "output_type": "stream",
          "name": "stdout",
          "text": [
            "\n",
            "      Epoch    GPU_mem   box_loss   cls_loss   dfl_loss  Instances       Size\n"
          ]
        },
        {
          "output_type": "stream",
          "name": "stderr",
          "text": [
            "       9/50      1.21G      1.513      1.344      1.291         10        640: 100%|██████████| 29/29 [00:02<00:00, 10.90it/s]\n",
            "                 Class     Images  Instances      Box(P          R      mAP50  mAP50-95): 100%|██████████| 2/2 [00:00<00:00,  9.60it/s]"
          ]
        },
        {
          "output_type": "stream",
          "name": "stdout",
          "text": [
            "                   all         32         96      0.661      0.953      0.719      0.388\n"
          ]
        },
        {
          "output_type": "stream",
          "name": "stderr",
          "text": [
            "\n"
          ]
        },
        {
          "output_type": "stream",
          "name": "stdout",
          "text": [
            "\n",
            "      Epoch    GPU_mem   box_loss   cls_loss   dfl_loss  Instances       Size\n"
          ]
        },
        {
          "output_type": "stream",
          "name": "stderr",
          "text": [
            "      10/50      1.21G      1.491      1.351      1.308         18        640: 100%|██████████| 29/29 [00:02<00:00, 11.39it/s]\n",
            "                 Class     Images  Instances      Box(P          R      mAP50  mAP50-95): 100%|██████████| 2/2 [00:00<00:00,  9.28it/s]"
          ]
        },
        {
          "output_type": "stream",
          "name": "stdout",
          "text": [
            "                   all         32         96      0.649          1      0.733      0.435\n"
          ]
        },
        {
          "output_type": "stream",
          "name": "stderr",
          "text": [
            "\n"
          ]
        },
        {
          "output_type": "stream",
          "name": "stdout",
          "text": [
            "\n",
            "      Epoch    GPU_mem   box_loss   cls_loss   dfl_loss  Instances       Size\n"
          ]
        },
        {
          "output_type": "stream",
          "name": "stderr",
          "text": [
            "      11/50      1.21G      1.486      1.294      1.287          7        640: 100%|██████████| 29/29 [00:02<00:00, 11.07it/s]\n",
            "                 Class     Images  Instances      Box(P          R      mAP50  mAP50-95): 100%|██████████| 2/2 [00:00<00:00,  9.23it/s]"
          ]
        },
        {
          "output_type": "stream",
          "name": "stdout",
          "text": [
            "                   all         32         96      0.658      0.959      0.722      0.439\n"
          ]
        },
        {
          "output_type": "stream",
          "name": "stderr",
          "text": [
            "\n"
          ]
        },
        {
          "output_type": "stream",
          "name": "stdout",
          "text": [
            "\n",
            "      Epoch    GPU_mem   box_loss   cls_loss   dfl_loss  Instances       Size\n"
          ]
        },
        {
          "output_type": "stream",
          "name": "stderr",
          "text": [
            "      12/50       1.2G      1.512       1.32      1.289          9        640: 100%|██████████| 29/29 [00:02<00:00, 10.70it/s]\n",
            "                 Class     Images  Instances      Box(P          R      mAP50  mAP50-95): 100%|██████████| 2/2 [00:00<00:00,  9.28it/s]"
          ]
        },
        {
          "output_type": "stream",
          "name": "stdout",
          "text": [
            "                   all         32         96      0.671      0.896      0.689      0.391\n"
          ]
        },
        {
          "output_type": "stream",
          "name": "stderr",
          "text": [
            "\n"
          ]
        },
        {
          "output_type": "stream",
          "name": "stdout",
          "text": [
            "\n",
            "      Epoch    GPU_mem   box_loss   cls_loss   dfl_loss  Instances       Size\n"
          ]
        },
        {
          "output_type": "stream",
          "name": "stderr",
          "text": [
            "      13/50      1.21G      1.473      1.245      1.238          8        640: 100%|██████████| 29/29 [00:02<00:00, 10.59it/s]\n",
            "                 Class     Images  Instances      Box(P          R      mAP50  mAP50-95): 100%|██████████| 2/2 [00:00<00:00,  9.29it/s]"
          ]
        },
        {
          "output_type": "stream",
          "name": "stdout",
          "text": [
            "                   all         32         96      0.657      0.969      0.707      0.356\n"
          ]
        },
        {
          "output_type": "stream",
          "name": "stderr",
          "text": [
            "\n"
          ]
        },
        {
          "output_type": "stream",
          "name": "stdout",
          "text": [
            "\n",
            "      Epoch    GPU_mem   box_loss   cls_loss   dfl_loss  Instances       Size\n"
          ]
        },
        {
          "output_type": "stream",
          "name": "stderr",
          "text": [
            "      14/50      1.21G      1.482      1.271      1.264         19        640: 100%|██████████| 29/29 [00:02<00:00, 10.76it/s]\n",
            "                 Class     Images  Instances      Box(P          R      mAP50  mAP50-95): 100%|██████████| 2/2 [00:00<00:00,  9.39it/s]"
          ]
        },
        {
          "output_type": "stream",
          "name": "stdout",
          "text": [
            "                   all         32         96      0.645      0.965      0.749      0.421\n"
          ]
        },
        {
          "output_type": "stream",
          "name": "stderr",
          "text": [
            "\n"
          ]
        },
        {
          "output_type": "stream",
          "name": "stdout",
          "text": [
            "\n",
            "      Epoch    GPU_mem   box_loss   cls_loss   dfl_loss  Instances       Size\n"
          ]
        },
        {
          "output_type": "stream",
          "name": "stderr",
          "text": [
            "      15/50      1.21G      1.495      1.249      1.252          7        640: 100%|██████████| 29/29 [00:02<00:00, 11.04it/s]\n",
            "                 Class     Images  Instances      Box(P          R      mAP50  mAP50-95): 100%|██████████| 2/2 [00:00<00:00, 10.12it/s]\n"
          ]
        },
        {
          "output_type": "stream",
          "name": "stdout",
          "text": [
            "                   all         32         96      0.651      0.969      0.732      0.398\n",
            "\n",
            "      Epoch    GPU_mem   box_loss   cls_loss   dfl_loss  Instances       Size\n"
          ]
        },
        {
          "output_type": "stream",
          "name": "stderr",
          "text": [
            "      16/50      1.21G      1.451      1.211      1.247         27        640: 100%|██████████| 29/29 [00:02<00:00, 11.38it/s]\n",
            "                 Class     Images  Instances      Box(P          R      mAP50  mAP50-95): 100%|██████████| 2/2 [00:00<00:00, 10.26it/s]\n"
          ]
        },
        {
          "output_type": "stream",
          "name": "stdout",
          "text": [
            "                   all         32         96      0.643      0.938      0.707       0.43\n",
            "\n",
            "      Epoch    GPU_mem   box_loss   cls_loss   dfl_loss  Instances       Size\n"
          ]
        },
        {
          "output_type": "stream",
          "name": "stderr",
          "text": [
            "      17/50      1.21G      1.472      1.215      1.264         10        640: 100%|██████████| 29/29 [00:02<00:00, 11.06it/s]\n",
            "                 Class     Images  Instances      Box(P          R      mAP50  mAP50-95): 100%|██████████| 2/2 [00:00<00:00, 10.20it/s]\n"
          ]
        },
        {
          "output_type": "stream",
          "name": "stdout",
          "text": [
            "                   all         32         96      0.663      0.969      0.716       0.45\n",
            "\n",
            "      Epoch    GPU_mem   box_loss   cls_loss   dfl_loss  Instances       Size\n"
          ]
        },
        {
          "output_type": "stream",
          "name": "stderr",
          "text": [
            "      18/50      1.21G      1.413      1.175      1.225         14        640: 100%|██████████| 29/29 [00:02<00:00, 10.58it/s]\n",
            "                 Class     Images  Instances      Box(P          R      mAP50  mAP50-95): 100%|██████████| 2/2 [00:00<00:00,  9.78it/s]"
          ]
        },
        {
          "output_type": "stream",
          "name": "stdout",
          "text": [
            "                   all         32         96      0.676      0.948      0.723       0.44\n"
          ]
        },
        {
          "output_type": "stream",
          "name": "stderr",
          "text": [
            "\n"
          ]
        },
        {
          "output_type": "stream",
          "name": "stdout",
          "text": [
            "\n",
            "      Epoch    GPU_mem   box_loss   cls_loss   dfl_loss  Instances       Size\n"
          ]
        },
        {
          "output_type": "stream",
          "name": "stderr",
          "text": [
            "      19/50      1.21G      1.448       1.15      1.252          6        640: 100%|██████████| 29/29 [00:02<00:00, 10.67it/s]\n",
            "                 Class     Images  Instances      Box(P          R      mAP50  mAP50-95): 100%|██████████| 2/2 [00:00<00:00, 10.03it/s]"
          ]
        },
        {
          "output_type": "stream",
          "name": "stdout",
          "text": [
            "                   all         32         96      0.658          1      0.727      0.433\n"
          ]
        },
        {
          "output_type": "stream",
          "name": "stderr",
          "text": [
            "\n"
          ]
        },
        {
          "output_type": "stream",
          "name": "stdout",
          "text": [
            "\n",
            "      Epoch    GPU_mem   box_loss   cls_loss   dfl_loss  Instances       Size\n"
          ]
        },
        {
          "output_type": "stream",
          "name": "stderr",
          "text": [
            "      20/50       1.2G      1.407      1.109      1.224         17        640: 100%|██████████| 29/29 [00:02<00:00, 11.23it/s]\n",
            "                 Class     Images  Instances      Box(P          R      mAP50  mAP50-95): 100%|██████████| 2/2 [00:00<00:00, 10.11it/s]\n"
          ]
        },
        {
          "output_type": "stream",
          "name": "stdout",
          "text": [
            "                   all         32         96      0.648      0.966      0.747      0.447\n",
            "\n",
            "      Epoch    GPU_mem   box_loss   cls_loss   dfl_loss  Instances       Size\n"
          ]
        },
        {
          "output_type": "stream",
          "name": "stderr",
          "text": [
            "      21/50      1.21G      1.455      1.144      1.242          8        640: 100%|██████████| 29/29 [00:02<00:00, 11.05it/s]\n",
            "                 Class     Images  Instances      Box(P          R      mAP50  mAP50-95): 100%|██████████| 2/2 [00:00<00:00, 10.23it/s]\n"
          ]
        },
        {
          "output_type": "stream",
          "name": "stdout",
          "text": [
            "                   all         32         96      0.671      0.948      0.756       0.47\n",
            "\n",
            "      Epoch    GPU_mem   box_loss   cls_loss   dfl_loss  Instances       Size\n"
          ]
        },
        {
          "output_type": "stream",
          "name": "stderr",
          "text": [
            "      22/50      1.21G      1.373      1.097      1.202          4        640: 100%|██████████| 29/29 [00:02<00:00, 11.01it/s]\n",
            "                 Class     Images  Instances      Box(P          R      mAP50  mAP50-95): 100%|██████████| 2/2 [00:00<00:00,  9.43it/s]"
          ]
        },
        {
          "output_type": "stream",
          "name": "stdout",
          "text": [
            "                   all         32         96      0.695      0.958      0.799      0.484\n"
          ]
        },
        {
          "output_type": "stream",
          "name": "stderr",
          "text": [
            "\n"
          ]
        },
        {
          "output_type": "stream",
          "name": "stdout",
          "text": [
            "\n",
            "      Epoch    GPU_mem   box_loss   cls_loss   dfl_loss  Instances       Size\n"
          ]
        },
        {
          "output_type": "stream",
          "name": "stderr",
          "text": [
            "      23/50      1.21G      1.428      1.115      1.254         15        640: 100%|██████████| 29/29 [00:02<00:00, 10.35it/s]\n",
            "                 Class     Images  Instances      Box(P          R      mAP50  mAP50-95): 100%|██████████| 2/2 [00:00<00:00,  8.58it/s]"
          ]
        },
        {
          "output_type": "stream",
          "name": "stdout",
          "text": [
            "                   all         32         96      0.718      0.969      0.825      0.505\n"
          ]
        },
        {
          "output_type": "stream",
          "name": "stderr",
          "text": [
            "\n"
          ]
        },
        {
          "output_type": "stream",
          "name": "stdout",
          "text": [
            "\n",
            "      Epoch    GPU_mem   box_loss   cls_loss   dfl_loss  Instances       Size\n"
          ]
        },
        {
          "output_type": "stream",
          "name": "stderr",
          "text": [
            "      24/50      1.21G      1.402      1.088      1.206         19        640: 100%|██████████| 29/29 [00:02<00:00, 10.71it/s]\n",
            "                 Class     Images  Instances      Box(P          R      mAP50  mAP50-95): 100%|██████████| 2/2 [00:00<00:00,  9.57it/s]"
          ]
        },
        {
          "output_type": "stream",
          "name": "stdout",
          "text": [
            "                   all         32         96      0.735      0.917      0.827      0.523\n"
          ]
        },
        {
          "output_type": "stream",
          "name": "stderr",
          "text": [
            "\n"
          ]
        },
        {
          "output_type": "stream",
          "name": "stdout",
          "text": [
            "\n",
            "      Epoch    GPU_mem   box_loss   cls_loss   dfl_loss  Instances       Size\n"
          ]
        },
        {
          "output_type": "stream",
          "name": "stderr",
          "text": [
            "      25/50      1.21G       1.41      1.069      1.234          9        640: 100%|██████████| 29/29 [00:02<00:00, 11.02it/s]\n",
            "                 Class     Images  Instances      Box(P          R      mAP50  mAP50-95): 100%|██████████| 2/2 [00:00<00:00,  9.53it/s]"
          ]
        },
        {
          "output_type": "stream",
          "name": "stdout",
          "text": [
            "                   all         32         96      0.778      0.895      0.842      0.512\n"
          ]
        },
        {
          "output_type": "stream",
          "name": "stderr",
          "text": [
            "\n"
          ]
        },
        {
          "output_type": "stream",
          "name": "stdout",
          "text": [
            "\n",
            "      Epoch    GPU_mem   box_loss   cls_loss   dfl_loss  Instances       Size\n"
          ]
        },
        {
          "output_type": "stream",
          "name": "stderr",
          "text": [
            "      26/50      1.21G       1.38       1.07      1.192         17        640: 100%|██████████| 29/29 [00:02<00:00, 11.26it/s]\n",
            "                 Class     Images  Instances      Box(P          R      mAP50  mAP50-95): 100%|██████████| 2/2 [00:00<00:00,  9.51it/s]"
          ]
        },
        {
          "output_type": "stream",
          "name": "stdout",
          "text": [
            "                   all         32         96      0.748      0.896      0.838      0.511\n"
          ]
        },
        {
          "output_type": "stream",
          "name": "stderr",
          "text": [
            "\n"
          ]
        },
        {
          "output_type": "stream",
          "name": "stdout",
          "text": [
            "\n",
            "      Epoch    GPU_mem   box_loss   cls_loss   dfl_loss  Instances       Size\n"
          ]
        },
        {
          "output_type": "stream",
          "name": "stderr",
          "text": [
            "      27/50      1.21G      1.383      1.046      1.201          8        640: 100%|██████████| 29/29 [00:02<00:00, 11.20it/s]\n",
            "                 Class     Images  Instances      Box(P          R      mAP50  mAP50-95): 100%|██████████| 2/2 [00:00<00:00,  8.98it/s]"
          ]
        },
        {
          "output_type": "stream",
          "name": "stdout",
          "text": [
            "                   all         32         96      0.732      0.916      0.844      0.496\n"
          ]
        },
        {
          "output_type": "stream",
          "name": "stderr",
          "text": [
            "\n"
          ]
        },
        {
          "output_type": "stream",
          "name": "stdout",
          "text": [
            "\n",
            "      Epoch    GPU_mem   box_loss   cls_loss   dfl_loss  Instances       Size\n"
          ]
        },
        {
          "output_type": "stream",
          "name": "stderr",
          "text": [
            "      28/50       1.2G      1.377      1.019      1.178         26        640: 100%|██████████| 29/29 [00:02<00:00, 10.59it/s]\n",
            "                 Class     Images  Instances      Box(P          R      mAP50  mAP50-95): 100%|██████████| 2/2 [00:00<00:00,  9.94it/s]"
          ]
        },
        {
          "output_type": "stream",
          "name": "stdout",
          "text": [
            "                   all         32         96      0.722      0.927      0.824      0.501\n"
          ]
        },
        {
          "output_type": "stream",
          "name": "stderr",
          "text": [
            "\n"
          ]
        },
        {
          "output_type": "stream",
          "name": "stdout",
          "text": [
            "\n",
            "      Epoch    GPU_mem   box_loss   cls_loss   dfl_loss  Instances       Size\n"
          ]
        },
        {
          "output_type": "stream",
          "name": "stderr",
          "text": [
            "      29/50      1.21G      1.381      1.042       1.18          8        640: 100%|██████████| 29/29 [00:02<00:00, 10.51it/s]\n",
            "                 Class     Images  Instances      Box(P          R      mAP50  mAP50-95): 100%|██████████| 2/2 [00:00<00:00,  9.86it/s]"
          ]
        },
        {
          "output_type": "stream",
          "name": "stdout",
          "text": [
            "                   all         32         96      0.744      0.914       0.82      0.494\n"
          ]
        },
        {
          "output_type": "stream",
          "name": "stderr",
          "text": [
            "\n"
          ]
        },
        {
          "output_type": "stream",
          "name": "stdout",
          "text": [
            "\n",
            "      Epoch    GPU_mem   box_loss   cls_loss   dfl_loss  Instances       Size\n"
          ]
        },
        {
          "output_type": "stream",
          "name": "stderr",
          "text": [
            "      30/50      1.21G      1.355      1.011      1.191         13        640: 100%|██████████| 29/29 [00:02<00:00, 11.16it/s]\n",
            "                 Class     Images  Instances      Box(P          R      mAP50  mAP50-95): 100%|██████████| 2/2 [00:00<00:00,  9.93it/s]"
          ]
        },
        {
          "output_type": "stream",
          "name": "stdout",
          "text": [
            "                   all         32         96      0.754      0.875       0.84        0.5\n"
          ]
        },
        {
          "output_type": "stream",
          "name": "stderr",
          "text": [
            "\n"
          ]
        },
        {
          "output_type": "stream",
          "name": "stdout",
          "text": [
            "\n",
            "      Epoch    GPU_mem   box_loss   cls_loss   dfl_loss  Instances       Size\n"
          ]
        },
        {
          "output_type": "stream",
          "name": "stderr",
          "text": [
            "      31/50      1.21G      1.349      0.997      1.168         16        640: 100%|██████████| 29/29 [00:02<00:00, 11.31it/s]\n",
            "                 Class     Images  Instances      Box(P          R      mAP50  mAP50-95): 100%|██████████| 2/2 [00:00<00:00, 10.47it/s]"
          ]
        },
        {
          "output_type": "stream",
          "name": "stdout",
          "text": [
            "                   all         32         96      0.749      0.917      0.839      0.474\n"
          ]
        },
        {
          "output_type": "stream",
          "name": "stderr",
          "text": [
            "\n"
          ]
        },
        {
          "output_type": "stream",
          "name": "stdout",
          "text": [
            "\n",
            "      Epoch    GPU_mem   box_loss   cls_loss   dfl_loss  Instances       Size\n"
          ]
        },
        {
          "output_type": "stream",
          "name": "stderr",
          "text": [
            "      32/50      1.21G      1.391     0.9975      1.212          8        640: 100%|██████████| 29/29 [00:02<00:00, 11.18it/s]\n",
            "                 Class     Images  Instances      Box(P          R      mAP50  mAP50-95): 100%|██████████| 2/2 [00:00<00:00,  9.79it/s]"
          ]
        },
        {
          "output_type": "stream",
          "name": "stdout",
          "text": [
            "                   all         32         96      0.756      0.875      0.843      0.503\n"
          ]
        },
        {
          "output_type": "stream",
          "name": "stderr",
          "text": [
            "\n"
          ]
        },
        {
          "output_type": "stream",
          "name": "stdout",
          "text": [
            "\n",
            "      Epoch    GPU_mem   box_loss   cls_loss   dfl_loss  Instances       Size\n"
          ]
        },
        {
          "output_type": "stream",
          "name": "stderr",
          "text": [
            "      33/50      1.21G      1.358      1.018      1.187         16        640: 100%|██████████| 29/29 [00:02<00:00, 10.59it/s]\n",
            "                 Class     Images  Instances      Box(P          R      mAP50  mAP50-95): 100%|██████████| 2/2 [00:00<00:00,  8.96it/s]"
          ]
        },
        {
          "output_type": "stream",
          "name": "stdout",
          "text": [
            "                   all         32         96      0.773      0.892      0.834      0.505\n"
          ]
        },
        {
          "output_type": "stream",
          "name": "stderr",
          "text": [
            "\n"
          ]
        },
        {
          "output_type": "stream",
          "name": "stdout",
          "text": [
            "\n",
            "      Epoch    GPU_mem   box_loss   cls_loss   dfl_loss  Instances       Size\n"
          ]
        },
        {
          "output_type": "stream",
          "name": "stderr",
          "text": [
            "      34/50      1.21G      1.378      0.944      1.187         13        640: 100%|██████████| 29/29 [00:02<00:00, 10.63it/s]\n",
            "                 Class     Images  Instances      Box(P          R      mAP50  mAP50-95): 100%|██████████| 2/2 [00:00<00:00,  9.63it/s]"
          ]
        },
        {
          "output_type": "stream",
          "name": "stdout",
          "text": [
            "                   all         32         96      0.781      0.854      0.858      0.532\n"
          ]
        },
        {
          "output_type": "stream",
          "name": "stderr",
          "text": [
            "\n"
          ]
        },
        {
          "output_type": "stream",
          "name": "stdout",
          "text": [
            "\n",
            "      Epoch    GPU_mem   box_loss   cls_loss   dfl_loss  Instances       Size\n"
          ]
        },
        {
          "output_type": "stream",
          "name": "stderr",
          "text": [
            "      35/50      1.21G      1.301     0.9473      1.141         11        640: 100%|██████████| 29/29 [00:02<00:00, 11.15it/s]\n",
            "                 Class     Images  Instances      Box(P          R      mAP50  mAP50-95): 100%|██████████| 2/2 [00:00<00:00, 10.11it/s]"
          ]
        },
        {
          "output_type": "stream",
          "name": "stdout",
          "text": [
            "                   all         32         96       0.76      0.906      0.878      0.551\n"
          ]
        },
        {
          "output_type": "stream",
          "name": "stderr",
          "text": [
            "\n"
          ]
        },
        {
          "output_type": "stream",
          "name": "stdout",
          "text": [
            "\n",
            "      Epoch    GPU_mem   box_loss   cls_loss   dfl_loss  Instances       Size\n"
          ]
        },
        {
          "output_type": "stream",
          "name": "stderr",
          "text": [
            "      36/50       1.2G      1.321     0.9664      1.151          7        640: 100%|██████████| 29/29 [00:02<00:00, 11.25it/s]\n",
            "                 Class     Images  Instances      Box(P          R      mAP50  mAP50-95): 100%|██████████| 2/2 [00:00<00:00, 10.29it/s]\n"
          ]
        },
        {
          "output_type": "stream",
          "name": "stdout",
          "text": [
            "                   all         32         96      0.776      0.911      0.873      0.547\n",
            "\n",
            "      Epoch    GPU_mem   box_loss   cls_loss   dfl_loss  Instances       Size\n"
          ]
        },
        {
          "output_type": "stream",
          "name": "stderr",
          "text": [
            "      37/50      1.21G        1.3     0.9047      1.161         11        640: 100%|██████████| 29/29 [00:02<00:00, 11.12it/s]\n",
            "                 Class     Images  Instances      Box(P          R      mAP50  mAP50-95): 100%|██████████| 2/2 [00:00<00:00,  9.25it/s]"
          ]
        },
        {
          "output_type": "stream",
          "name": "stdout",
          "text": [
            "                   all         32         96      0.763      0.928      0.889      0.549\n"
          ]
        },
        {
          "output_type": "stream",
          "name": "stderr",
          "text": [
            "\n"
          ]
        },
        {
          "output_type": "stream",
          "name": "stdout",
          "text": [
            "\n",
            "      Epoch    GPU_mem   box_loss   cls_loss   dfl_loss  Instances       Size\n"
          ]
        },
        {
          "output_type": "stream",
          "name": "stderr",
          "text": [
            "      38/50      1.21G      1.313     0.9339      1.156          5        640: 100%|██████████| 29/29 [00:02<00:00, 10.65it/s]\n",
            "                 Class     Images  Instances      Box(P          R      mAP50  mAP50-95): 100%|██████████| 2/2 [00:00<00:00,  8.66it/s]"
          ]
        },
        {
          "output_type": "stream",
          "name": "stdout",
          "text": [
            "                   all         32         96      0.806      0.803      0.854      0.527\n"
          ]
        },
        {
          "output_type": "stream",
          "name": "stderr",
          "text": [
            "\n"
          ]
        },
        {
          "output_type": "stream",
          "name": "stdout",
          "text": [
            "\n",
            "      Epoch    GPU_mem   box_loss   cls_loss   dfl_loss  Instances       Size\n"
          ]
        },
        {
          "output_type": "stream",
          "name": "stderr",
          "text": [
            "      39/50      1.21G      1.321     0.9012      1.164          8        640: 100%|██████████| 29/29 [00:02<00:00, 10.52it/s]\n",
            "                 Class     Images  Instances      Box(P          R      mAP50  mAP50-95): 100%|██████████| 2/2 [00:00<00:00, 10.47it/s]"
          ]
        },
        {
          "output_type": "stream",
          "name": "stdout",
          "text": [
            "                   all         32         96      0.836      0.806      0.866      0.529\n"
          ]
        },
        {
          "output_type": "stream",
          "name": "stderr",
          "text": [
            "\n"
          ]
        },
        {
          "output_type": "stream",
          "name": "stdout",
          "text": [
            "\n",
            "      Epoch    GPU_mem   box_loss   cls_loss   dfl_loss  Instances       Size\n"
          ]
        },
        {
          "output_type": "stream",
          "name": "stderr",
          "text": [
            "      40/50      1.21G       1.29     0.9039      1.138          7        640: 100%|██████████| 29/29 [00:02<00:00, 11.41it/s]\n",
            "                 Class     Images  Instances      Box(P          R      mAP50  mAP50-95): 100%|██████████| 2/2 [00:00<00:00,  9.86it/s]"
          ]
        },
        {
          "output_type": "stream",
          "name": "stdout",
          "text": [
            "                   all         32         96      0.833      0.843      0.867      0.536\n"
          ]
        },
        {
          "output_type": "stream",
          "name": "stderr",
          "text": [
            "\n"
          ]
        },
        {
          "output_type": "stream",
          "name": "stdout",
          "text": [
            "Closing dataloader mosaic\n",
            "\u001b[34m\u001b[1malbumentations: \u001b[0mBlur(p=0.01, blur_limit=(3, 7)), MedianBlur(p=0.01, blur_limit=(3, 7)), ToGray(p=0.01), CLAHE(p=0.01, clip_limit=(1, 4.0), tile_grid_size=(8, 8))\n"
          ]
        },
        {
          "output_type": "stream",
          "name": "stderr",
          "text": [
            "/usr/lib/python3.10/multiprocessing/popen_fork.py:66: RuntimeWarning: os.fork() was called. os.fork() is incompatible with multithreaded code, and JAX is multithreaded, so this will likely lead to a deadlock.\n",
            "  self.pid = os.fork()\n"
          ]
        },
        {
          "output_type": "stream",
          "name": "stdout",
          "text": [
            "\n",
            "      Epoch    GPU_mem   box_loss   cls_loss   dfl_loss  Instances       Size\n"
          ]
        },
        {
          "output_type": "stream",
          "name": "stderr",
          "text": [
            "      41/50      1.34G       1.25     0.8185       1.13          9        640: 100%|██████████| 29/29 [00:03<00:00,  8.00it/s]\n",
            "                 Class     Images  Instances      Box(P          R      mAP50  mAP50-95): 100%|██████████| 2/2 [00:00<00:00,  9.64it/s]"
          ]
        },
        {
          "output_type": "stream",
          "name": "stdout",
          "text": [
            "                   all         32         96      0.733      0.948      0.868      0.539\n"
          ]
        },
        {
          "output_type": "stream",
          "name": "stderr",
          "text": [
            "\n"
          ]
        },
        {
          "output_type": "stream",
          "name": "stdout",
          "text": [
            "\n",
            "      Epoch    GPU_mem   box_loss   cls_loss   dfl_loss  Instances       Size\n"
          ]
        },
        {
          "output_type": "stream",
          "name": "stderr",
          "text": [
            "      42/50      1.21G      1.223     0.8123      1.126          9        640: 100%|██████████| 29/29 [00:02<00:00, 11.02it/s]\n",
            "                 Class     Images  Instances      Box(P          R      mAP50  mAP50-95): 100%|██████████| 2/2 [00:00<00:00,  9.00it/s]"
          ]
        },
        {
          "output_type": "stream",
          "name": "stdout",
          "text": [
            "                   all         32         96      0.768      0.896       0.87       0.54\n"
          ]
        },
        {
          "output_type": "stream",
          "name": "stderr",
          "text": [
            "\n"
          ]
        },
        {
          "output_type": "stream",
          "name": "stdout",
          "text": [
            "\n",
            "      Epoch    GPU_mem   box_loss   cls_loss   dfl_loss  Instances       Size\n"
          ]
        },
        {
          "output_type": "stream",
          "name": "stderr",
          "text": [
            "      43/50      1.21G      1.205     0.7928      1.117          8        640: 100%|██████████| 29/29 [00:02<00:00, 10.70it/s]\n",
            "                 Class     Images  Instances      Box(P          R      mAP50  mAP50-95): 100%|██████████| 2/2 [00:00<00:00,  9.03it/s]"
          ]
        },
        {
          "output_type": "stream",
          "name": "stdout",
          "text": [
            "                   all         32         96      0.796      0.862      0.861      0.542\n"
          ]
        },
        {
          "output_type": "stream",
          "name": "stderr",
          "text": [
            "\n"
          ]
        },
        {
          "output_type": "stream",
          "name": "stdout",
          "text": [
            "\n",
            "      Epoch    GPU_mem   box_loss   cls_loss   dfl_loss  Instances       Size\n"
          ]
        },
        {
          "output_type": "stream",
          "name": "stderr",
          "text": [
            "      44/50       1.2G       1.22     0.7791      1.113          9        640: 100%|██████████| 29/29 [00:02<00:00, 11.01it/s]\n",
            "                 Class     Images  Instances      Box(P          R      mAP50  mAP50-95): 100%|██████████| 2/2 [00:00<00:00,  9.76it/s]"
          ]
        },
        {
          "output_type": "stream",
          "name": "stdout",
          "text": [
            "                   all         32         96      0.811      0.871      0.866      0.548\n"
          ]
        },
        {
          "output_type": "stream",
          "name": "stderr",
          "text": [
            "\n"
          ]
        },
        {
          "output_type": "stream",
          "name": "stdout",
          "text": [
            "\n",
            "      Epoch    GPU_mem   box_loss   cls_loss   dfl_loss  Instances       Size\n"
          ]
        },
        {
          "output_type": "stream",
          "name": "stderr",
          "text": [
            "      45/50      1.21G      1.178     0.7652      1.096          9        640: 100%|██████████| 29/29 [00:02<00:00, 11.55it/s]\n",
            "                 Class     Images  Instances      Box(P          R      mAP50  mAP50-95): 100%|██████████| 2/2 [00:00<00:00, 10.17it/s]\n"
          ]
        },
        {
          "output_type": "stream",
          "name": "stdout",
          "text": [
            "                   all         32         96      0.831      0.862      0.874      0.537\n",
            "\n",
            "      Epoch    GPU_mem   box_loss   cls_loss   dfl_loss  Instances       Size\n"
          ]
        },
        {
          "output_type": "stream",
          "name": "stderr",
          "text": [
            "      46/50      1.21G        1.2     0.7704      1.121          9        640: 100%|██████████| 29/29 [00:02<00:00, 11.35it/s]\n",
            "                 Class     Images  Instances      Box(P          R      mAP50  mAP50-95): 100%|██████████| 2/2 [00:00<00:00, 10.35it/s]"
          ]
        },
        {
          "output_type": "stream",
          "name": "stdout",
          "text": [
            "                   all         32         96      0.768      0.937      0.879      0.545\n"
          ]
        },
        {
          "output_type": "stream",
          "name": "stderr",
          "text": [
            "\n"
          ]
        },
        {
          "output_type": "stream",
          "name": "stdout",
          "text": [
            "\n",
            "      Epoch    GPU_mem   box_loss   cls_loss   dfl_loss  Instances       Size\n"
          ]
        },
        {
          "output_type": "stream",
          "name": "stderr",
          "text": [
            "      47/50      1.21G      1.199     0.7536      1.124          9        640: 100%|██████████| 29/29 [00:02<00:00, 10.93it/s]\n",
            "                 Class     Images  Instances      Box(P          R      mAP50  mAP50-95): 100%|██████████| 2/2 [00:00<00:00,  9.45it/s]"
          ]
        },
        {
          "output_type": "stream",
          "name": "stdout",
          "text": [
            "                   all         32         96      0.787       0.89      0.891      0.556\n"
          ]
        },
        {
          "output_type": "stream",
          "name": "stderr",
          "text": [
            "\n"
          ]
        },
        {
          "output_type": "stream",
          "name": "stdout",
          "text": [
            "\n",
            "      Epoch    GPU_mem   box_loss   cls_loss   dfl_loss  Instances       Size\n"
          ]
        },
        {
          "output_type": "stream",
          "name": "stderr",
          "text": [
            "      48/50      1.21G      1.183     0.7492      1.104          9        640: 100%|██████████| 29/29 [00:02<00:00, 10.77it/s]\n",
            "                 Class     Images  Instances      Box(P          R      mAP50  mAP50-95): 100%|██████████| 2/2 [00:00<00:00,  9.25it/s]"
          ]
        },
        {
          "output_type": "stream",
          "name": "stdout",
          "text": [
            "                   all         32         96      0.763      0.949      0.892      0.561\n"
          ]
        },
        {
          "output_type": "stream",
          "name": "stderr",
          "text": [
            "\n"
          ]
        },
        {
          "output_type": "stream",
          "name": "stdout",
          "text": [
            "\n",
            "      Epoch    GPU_mem   box_loss   cls_loss   dfl_loss  Instances       Size\n"
          ]
        },
        {
          "output_type": "stream",
          "name": "stderr",
          "text": [
            "      49/50      1.21G      1.187     0.7506      1.113          9        640: 100%|██████████| 29/29 [00:02<00:00, 10.69it/s]\n",
            "                 Class     Images  Instances      Box(P          R      mAP50  mAP50-95): 100%|██████████| 2/2 [00:00<00:00,  9.97it/s]"
          ]
        },
        {
          "output_type": "stream",
          "name": "stdout",
          "text": [
            "                   all         32         96      0.756      0.927      0.887      0.557\n"
          ]
        },
        {
          "output_type": "stream",
          "name": "stderr",
          "text": [
            "\n"
          ]
        },
        {
          "output_type": "stream",
          "name": "stdout",
          "text": [
            "\n",
            "      Epoch    GPU_mem   box_loss   cls_loss   dfl_loss  Instances       Size\n"
          ]
        },
        {
          "output_type": "stream",
          "name": "stderr",
          "text": [
            "      50/50      1.21G      1.174      0.726      1.103          9        640: 100%|██████████| 29/29 [00:02<00:00, 11.55it/s]\n",
            "                 Class     Images  Instances      Box(P          R      mAP50  mAP50-95): 100%|██████████| 2/2 [00:00<00:00,  9.60it/s]"
          ]
        },
        {
          "output_type": "stream",
          "name": "stdout",
          "text": [
            "                   all         32         96      0.763      0.937      0.888      0.556\n"
          ]
        },
        {
          "output_type": "stream",
          "name": "stderr",
          "text": [
            "\n"
          ]
        },
        {
          "output_type": "stream",
          "name": "stdout",
          "text": [
            "\n",
            "50 epochs completed in 0.051 hours.\n",
            "Optimizer stripped from runs/detect/train/weights/last.pt, 6.3MB\n",
            "Optimizer stripped from runs/detect/train/weights/best.pt, 6.3MB\n",
            "\n",
            "Validating runs/detect/train/weights/best.pt...\n",
            "Ultralytics YOLOv8.2.14 🚀 Python-3.10.12 torch-2.2.1+cu121 CUDA:0 (Tesla T4, 15102MiB)\n",
            "Model summary (fused): 168 layers, 3006233 parameters, 0 gradients, 8.1 GFLOPs\n"
          ]
        },
        {
          "output_type": "stream",
          "name": "stderr",
          "text": [
            "                 Class     Images  Instances      Box(P          R      mAP50  mAP50-95): 100%|██████████| 2/2 [00:00<00:00,  8.38it/s]\n"
          ]
        },
        {
          "output_type": "stream",
          "name": "stdout",
          "text": [
            "                   all         32         96      0.763      0.949      0.893      0.561\n",
            "                 depth         32         32      0.975          1      0.995      0.597\n",
            "                length         32         32      0.672      0.897      0.838      0.498\n",
            "                 width         32         32      0.641      0.951      0.844      0.587\n",
            "Speed: 0.2ms preprocess, 1.9ms inference, 0.0ms loss, 1.5ms postprocess per image\n",
            "Results saved to \u001b[1mruns/detect/train\u001b[0m\n"
          ]
        }
      ]
    },
    {
      "cell_type": "code",
      "source": [
        "model = YOLO(\"/content/runs/detect/train/weights/best.pt\")\n",
        "vl= model.val(conf = 0.25, split = 'val')"
      ],
      "metadata": {
        "id": "xN11CUPhjZf5",
        "colab": {
          "base_uri": "https://localhost:8080/"
        },
        "outputId": "4583e761-2888-4fe1-bc8a-d03143bde7f4"
      },
      "execution_count": 5,
      "outputs": [
        {
          "output_type": "stream",
          "name": "stdout",
          "text": [
            "Ultralytics YOLOv8.2.14 🚀 Python-3.10.12 torch-2.2.1+cu121 CUDA:0 (Tesla T4, 15102MiB)\n",
            "Model summary (fused): 168 layers, 3006233 parameters, 0 gradients, 8.1 GFLOPs\n"
          ]
        },
        {
          "output_type": "stream",
          "name": "stderr",
          "text": [
            "\u001b[34m\u001b[1mval: \u001b[0mScanning /content/gdrive/MyDrive/YOLODATASET_S/valid/labels.cache... 32 images, 0 backgrounds, 0 corrupt: 100%|██████████| 32/32 [00:00<?, ?it/s]\n",
            "/usr/lib/python3.10/multiprocessing/popen_fork.py:66: RuntimeWarning: os.fork() was called. os.fork() is incompatible with multithreaded code, and JAX is multithreaded, so this will likely lead to a deadlock.\n",
            "  self.pid = os.fork()\n",
            "                 Class     Images  Instances      Box(P          R      mAP50  mAP50-95): 100%|██████████| 2/2 [00:02<00:00,  1.12s/it]\n"
          ]
        },
        {
          "output_type": "stream",
          "name": "stdout",
          "text": [
            "                   all         32         96      0.768      0.938      0.877       0.57\n",
            "                 depth         32         32          1          1      0.995      0.624\n",
            "                length         32         32      0.667      0.875      0.806      0.494\n",
            "                 width         32         32      0.638      0.938      0.831      0.591\n",
            "Speed: 0.3ms preprocess, 5.3ms inference, 0.0ms loss, 3.4ms postprocess per image\n",
            "Results saved to \u001b[1mruns/detect/val\u001b[0m\n"
          ]
        }
      ]
    },
    {
      "cell_type": "code",
      "source": [
        "def calculate_f1_score(precision, recall):\n",
        "    if precision == 0 or recall == 0:\n",
        "        return 0\n",
        "    else:\n",
        "        return 2 * (precision * recall) / (precision + recall)\n",
        "\n",
        "# Assuming results.box.p and results.box.r are lists or arrays containing precision and recall for each class\n",
        "num_classes = len(vl.box.p)  # Assuming precision and recall have the same length\n",
        "\n",
        "total_f1_score = 0\n",
        "class_f1_scores = {}  # Dictionary to store F1 scores for each class\n",
        "\n",
        "for i in range(num_classes):\n",
        "    precision = vl.box.p[i].item()\n",
        "    recall = vl.box.r[i].item()\n",
        "    f1 = calculate_f1_score(precision, recall)\n",
        "    total_f1_score += f1\n",
        "    class_f1_scores[f\"Class {i}\"] = f1\n",
        "\n",
        "average_f1_score = total_f1_score / num_classes\n",
        "\n",
        "# Print F1 scores for each class\n",
        "for class_name, f1_score in class_f1_scores.items():\n",
        "    print(f\"F1 Score for {class_name}: {f1_score}\")\n",
        "\n",
        "print(f\"Average F1 Score: {average_f1_score}\")"
      ],
      "metadata": {
        "id": "lZZog21JzVwV",
        "colab": {
          "base_uri": "https://localhost:8080/"
        },
        "outputId": "7ecffd9b-97ce-4417-8e1f-262da9be96a5"
      },
      "execution_count": 6,
      "outputs": [
        {
          "output_type": "stream",
          "name": "stdout",
          "text": [
            "F1 Score for Class 0: 1.0\n",
            "F1 Score for Class 1: 0.7567567567567567\n",
            "F1 Score for Class 2: 0.759493670886076\n",
            "Average F1 Score: 0.8387501425476108\n"
          ]
        }
      ]
    },
    {
      "cell_type": "code",
      "source": [
        "inf=model.predict('/content/gdrive/MyDrive/hh/test/images',save=True, save_txt=True)"
      ],
      "metadata": {
        "id": "F-5JBxkCjgUX",
        "colab": {
          "base_uri": "https://localhost:8080/"
        },
        "outputId": "1dd3cc85-2235-4d29-e45e-d645da0e0239"
      },
      "execution_count": 7,
      "outputs": [
        {
          "output_type": "stream",
          "name": "stdout",
          "text": [
            "\n",
            "image 1/65 /content/gdrive/MyDrive/hh/test/images/1-1-_jpg.rf.d20d4169033edc59b074443048c3679f.jpg: 640x640 1 depth, 1 length, 1 width, 7.8ms\n",
            "image 2/65 /content/gdrive/MyDrive/hh/test/images/1-10-_jpg.rf.a64eef177c6e4e5eb61029c387e2b25f.jpg: 640x640 1 depth, 1 length, 2 widths, 8.6ms\n",
            "image 3/65 /content/gdrive/MyDrive/hh/test/images/1-100-_jpg.rf.1df03f17221dafb873e6790ae7c5e3f9.jpg: 640x640 1 depth, 1 length, 1 width, 8.1ms\n",
            "image 4/65 /content/gdrive/MyDrive/hh/test/images/1-101-_jpg.rf.349d8699b36a83850dc2ef35e9846de4.jpg: 640x640 1 depth, 1 length, 1 width, 9.0ms\n",
            "image 5/65 /content/gdrive/MyDrive/hh/test/images/1-102-_jpg.rf.6b5a6a3c455521552d7c0f6f63d158b7.jpg: 640x640 1 depth, 1 length, 1 width, 9.4ms\n",
            "image 6/65 /content/gdrive/MyDrive/hh/test/images/1-106-_jpg.rf.cf054ba87c0d43459e2159d288db0f28.jpg: 640x640 1 depth, 1 length, 1 width, 7.8ms\n",
            "image 7/65 /content/gdrive/MyDrive/hh/test/images/1-109-_jpg.rf.4b76a67ba162cd0e16d0894eede6d37d.jpg: 640x640 1 depth, 1 length, 1 width, 8.0ms\n",
            "image 8/65 /content/gdrive/MyDrive/hh/test/images/1-111-_jpg.rf.5db7274a2216e30762b8bab99dc6a6d6.jpg: 640x640 2 depths, 2 lengths, 2 widths, 8.6ms\n",
            "image 9/65 /content/gdrive/MyDrive/hh/test/images/1-114-_jpg.rf.9811d745556b8da395c6d8378707a811.jpg: 640x640 1 depth, 1 length, 1 width, 13.4ms\n",
            "image 10/65 /content/gdrive/MyDrive/hh/test/images/1-116-_jpg.rf.8148c80a5a013792d9f6da1a9fd19633.jpg: 640x640 1 depth, 1 length, 1 width, 8.7ms\n",
            "image 11/65 /content/gdrive/MyDrive/hh/test/images/1-118-_jpg.rf.e79d1bc847796a4d07e0b51d71214064.jpg: 640x640 1 depth, 1 length, 1 width, 7.9ms\n",
            "image 12/65 /content/gdrive/MyDrive/hh/test/images/1-120-_jpg.rf.1cb38658fe78eaf3259518df651711e7.jpg: 640x640 1 depth, 1 length, 1 width, 8.2ms\n",
            "image 13/65 /content/gdrive/MyDrive/hh/test/images/1-121-_jpg.rf.5bf4edddd298870d064d48a9d86d923a.jpg: 640x640 1 depth, 1 length, 1 width, 8.5ms\n",
            "image 14/65 /content/gdrive/MyDrive/hh/test/images/1-122-_jpg.rf.f07d40e532565cb22a35b434ca8601dc.jpg: 640x640 1 depth, 2 lengths, 1 width, 12.2ms\n",
            "image 15/65 /content/gdrive/MyDrive/hh/test/images/1-127-_jpg.rf.b9e546789816e932b754e9fe3b42e5ef.jpg: 640x640 1 depth, 1 length, 1 width, 8.5ms\n",
            "image 16/65 /content/gdrive/MyDrive/hh/test/images/1-128-_jpg.rf.690b85003cf9a63a3ca7a124fe73b1cb.jpg: 640x640 1 depth, 1 length, 1 width, 9.1ms\n",
            "image 17/65 /content/gdrive/MyDrive/hh/test/images/1-131-_jpg.rf.3254faefa0dd676d9ae95d2a520e8892.jpg: 640x640 1 depth, 1 length, 1 width, 8.4ms\n",
            "image 18/65 /content/gdrive/MyDrive/hh/test/images/1-133-_jpg.rf.378c966c2a173ba6a251181c4a4d9d28.jpg: 640x640 1 depth, 1 length, 1 width, 7.8ms\n",
            "image 19/65 /content/gdrive/MyDrive/hh/test/images/1-15-_jpg.rf.5f299b8339e30f9aa7e1acf61ac3a737.jpg: 640x640 1 depth, 1 length, 1 width, 7.7ms\n",
            "image 20/65 /content/gdrive/MyDrive/hh/test/images/1-16-_jpg.rf.a970393cc2dde35243f2cc24dc0da31f.jpg: 640x640 1 depth, 1 length, 1 width, 8.2ms\n",
            "image 21/65 /content/gdrive/MyDrive/hh/test/images/1-17-_jpg.rf.67f3b14e15ac216071c4f8a96390a912.jpg: 640x640 1 depth, 2 lengths, 1 width, 7.9ms\n",
            "image 22/65 /content/gdrive/MyDrive/hh/test/images/1-18-_jpg.rf.5c7bdb3a2d1886d741cc767ba4ce1a65.jpg: 640x640 1 depth, 2 lengths, 2 widths, 8.5ms\n",
            "image 23/65 /content/gdrive/MyDrive/hh/test/images/1-20-_jpg.rf.e95117c60c612b2248188f3f2b00ae2f.jpg: 640x640 1 depth, 1 length, 1 width, 8.8ms\n",
            "image 24/65 /content/gdrive/MyDrive/hh/test/images/1-22-_jpg.rf.d75dd30e599b9e44b55372f18a62c2e2.jpg: 640x640 1 depth, 1 length, 1 width, 8.0ms\n",
            "image 25/65 /content/gdrive/MyDrive/hh/test/images/1-25-_jpg.rf.a1abce00b0acead8ad71faa193a20e59.jpg: 640x640 1 depth, 2 lengths, 1 width, 8.1ms\n",
            "image 26/65 /content/gdrive/MyDrive/hh/test/images/1-26-_jpg.rf.5d426a7d173834bf5a80f5112533ff8c.jpg: 640x640 1 depth, 2 widths, 8.5ms\n",
            "image 27/65 /content/gdrive/MyDrive/hh/test/images/1-27-_jpg.rf.4af47fe584f9b03016fc0cb3b9c25395.jpg: 640x640 1 depth, 2 lengths, 1 width, 7.7ms\n",
            "image 28/65 /content/gdrive/MyDrive/hh/test/images/1-29-_jpg.rf.5a42d52090ee97193728eef56ef9b043.jpg: 640x640 1 depth, 1 length, 1 width, 8.6ms\n",
            "image 29/65 /content/gdrive/MyDrive/hh/test/images/1-30-_jpg.rf.f405cc0cbb9240dee8f463a50022d4da.jpg: 640x640 1 depth, 1 length, 1 width, 8.5ms\n",
            "image 30/65 /content/gdrive/MyDrive/hh/test/images/1-31-_jpg.rf.605dfc72cdff45376b2c6f1b9937deb1.jpg: 640x640 1 depth, 2 widths, 12.1ms\n",
            "image 31/65 /content/gdrive/MyDrive/hh/test/images/1-32-_jpg.rf.2779ca752dfbce06a1aeaf08568d168a.jpg: 640x640 1 depth, 1 length, 1 width, 11.1ms\n",
            "image 32/65 /content/gdrive/MyDrive/hh/test/images/1-33-_jpg.rf.eaf16a21d063463ce76a116dc7fa8625.jpg: 640x640 1 depth, 1 length, 1 width, 8.2ms\n",
            "image 33/65 /content/gdrive/MyDrive/hh/test/images/1-35-_jpg.rf.a8a17b44eb1bb3cc2ae28e3a2de0c259.jpg: 640x640 1 depth, 1 length, 1 width, 8.0ms\n",
            "image 34/65 /content/gdrive/MyDrive/hh/test/images/1-36-_jpg.rf.73807e395c7a17ca660cfcb1acedc349.jpg: 640x640 1 depth, 2 lengths, 1 width, 8.5ms\n",
            "image 35/65 /content/gdrive/MyDrive/hh/test/images/1-37-_jpg.rf.16dc877b369e2f7e59acd803888ca529.jpg: 640x640 1 depth, 1 length, 2 widths, 7.9ms\n",
            "image 36/65 /content/gdrive/MyDrive/hh/test/images/1-38-_jpg.rf.48acb9c134fea1faaa2dc8200d98ce9c.jpg: 640x640 1 depth, 1 length, 1 width, 11.6ms\n",
            "image 37/65 /content/gdrive/MyDrive/hh/test/images/1-4-_jpg.rf.a312fa932c6cd032ad212b6b20040511.jpg: 640x640 1 depth, 2 lengths, 1 width, 7.9ms\n",
            "image 38/65 /content/gdrive/MyDrive/hh/test/images/1-43-_jpg.rf.aa327ff9cc007c9053d5e30c34778c23.jpg: 640x640 1 depth, 1 length, 1 width, 7.9ms\n",
            "image 39/65 /content/gdrive/MyDrive/hh/test/images/1-45-_jpg.rf.2f369e05547afc457589d3ea13dbafd1.jpg: 640x640 1 depth, 1 length, 1 width, 8.1ms\n",
            "image 40/65 /content/gdrive/MyDrive/hh/test/images/1-46-_jpg.rf.bb7d313767b3bca6c0e4ba5287d50d44.jpg: 640x640 1 depth, 2 lengths, 1 width, 8.1ms\n",
            "image 41/65 /content/gdrive/MyDrive/hh/test/images/1-47-_jpg.rf.2fa0bbf5e26fc7c35f8718ca2cd55e5c.jpg: 640x640 1 depth, 2 lengths, 2 widths, 8.0ms\n",
            "image 42/65 /content/gdrive/MyDrive/hh/test/images/1-49-_jpg.rf.b86e06e59420770b04989f6e9e7ab934.jpg: 640x640 1 depth, 2 lengths, 2 widths, 7.9ms\n",
            "image 43/65 /content/gdrive/MyDrive/hh/test/images/1-50-_jpg.rf.24aa0fa58f851cf4f34ff0beeea20b6c.jpg: 640x640 1 depth, 1 length, 1 width, 7.7ms\n",
            "image 44/65 /content/gdrive/MyDrive/hh/test/images/1-52-_jpg.rf.0d702d216b5658dfb15c1a6857f2b590.jpg: 640x640 2 depths, 1 length, 8.2ms\n",
            "image 45/65 /content/gdrive/MyDrive/hh/test/images/1-54-_jpg.rf.8733b717aeb3e58b5cb4a809e5e70737.jpg: 640x640 1 depth, 1 length, 1 width, 8.0ms\n",
            "image 46/65 /content/gdrive/MyDrive/hh/test/images/1-55-_jpg.rf.8dcff8d3bb357c1a75624e13d4845737.jpg: 640x640 1 depth, 1 length, 1 width, 8.2ms\n",
            "image 47/65 /content/gdrive/MyDrive/hh/test/images/1-56-_jpg.rf.88f1a4ffd4065d2d317c146b49f8b9f3.jpg: 640x640 2 depths, 1 length, 1 width, 7.8ms\n",
            "image 48/65 /content/gdrive/MyDrive/hh/test/images/1-58-_jpg.rf.2ba518252070290b1bf32785bee7d8f7.jpg: 640x640 1 depth, 1 length, 1 width, 7.8ms\n",
            "image 49/65 /content/gdrive/MyDrive/hh/test/images/1-60-_jpg.rf.3f0c6edfac1fac8659626eee27ace6e0.jpg: 640x640 1 depth, 1 length, 1 width, 7.6ms\n",
            "image 50/65 /content/gdrive/MyDrive/hh/test/images/1-61-_jpg.rf.5a47785804cf1b13afacbf7aba10a8bd.jpg: 640x640 1 depth, 1 length, 2 widths, 8.7ms\n",
            "image 51/65 /content/gdrive/MyDrive/hh/test/images/1-64-_jpg.rf.ce0a930bcb971cc4d5bd5ca90ea2906e.jpg: 640x640 1 depth, 1 length, 1 width, 8.3ms\n",
            "image 52/65 /content/gdrive/MyDrive/hh/test/images/1-66-_jpg.rf.af7ed2cbd2e4487ee61e6610e4f1e106.jpg: 640x640 1 depth, 1 length, 1 width, 8.3ms\n",
            "image 53/65 /content/gdrive/MyDrive/hh/test/images/1-7-_jpg.rf.51d8889b4292b8638f67cb9a7187e2e6.jpg: 640x640 1 depth, 1 length, 1 width, 8.4ms\n",
            "image 54/65 /content/gdrive/MyDrive/hh/test/images/1-70-_jpg.rf.37b028064904bce9ac2b0ec00bec22dd.jpg: 640x640 1 depth, 1 length, 1 width, 8.2ms\n",
            "image 55/65 /content/gdrive/MyDrive/hh/test/images/1-78-_jpg.rf.59d45401683beadca2d5754869443cf2.jpg: 640x640 1 depth, 1 length, 1 width, 8.7ms\n",
            "image 56/65 /content/gdrive/MyDrive/hh/test/images/1-8-_jpg.rf.5680d37a28c5c8dd5d0994264d807279.jpg: 640x640 1 depth, 1 length, 1 width, 8.6ms\n",
            "image 57/65 /content/gdrive/MyDrive/hh/test/images/1-80-_jpg.rf.ac39a624de5626a1f9cf3d60393fdd74.jpg: 640x640 1 depth, 1 length, 1 width, 10.6ms\n",
            "image 58/65 /content/gdrive/MyDrive/hh/test/images/1-82-_jpg.rf.aca6d5924b7618756e025c19b66dfa13.jpg: 640x640 1 depth, 1 length, 1 width, 8.0ms\n",
            "image 59/65 /content/gdrive/MyDrive/hh/test/images/1-84-_jpg.rf.b1332e761c6daa5ef76e5203e4f32ce8.jpg: 640x640 1 depth, 1 length, 1 width, 8.1ms\n",
            "image 60/65 /content/gdrive/MyDrive/hh/test/images/1-9-_jpg.rf.1f7ec33e2ac3a1d7929dd74c597dd54a.jpg: 640x640 1 depth, 1 length, 1 width, 9.1ms\n",
            "image 61/65 /content/gdrive/MyDrive/hh/test/images/1-91-_jpg.rf.dfee2952d7d9dcc8e38adbbdd102ebb1.jpg: 640x640 1 depth, 2 lengths, 1 width, 8.4ms\n",
            "image 62/65 /content/gdrive/MyDrive/hh/test/images/1-93-_jpg.rf.f8fb2d093e49135ce1262972a2cbebe0.jpg: 640x640 1 depth, 2 lengths, 1 width, 8.5ms\n",
            "image 63/65 /content/gdrive/MyDrive/hh/test/images/1-94-_jpg.rf.54d056aa0c74e2f0ea8b70551beeb01f.jpg: 640x640 1 depth, 1 length, 1 width, 8.3ms\n",
            "image 64/65 /content/gdrive/MyDrive/hh/test/images/1-98-_jpg.rf.e05abcf5da3ba24a60d6eb72fed8b8c0.jpg: 640x640 1 depth, 1 length, 1 width, 8.0ms\n",
            "image 65/65 /content/gdrive/MyDrive/hh/test/images/1_jpg.rf.45559e1c0e02b93e8c9164b2fcfa4065.jpg: 640x640 1 depth, 1 length, 1 width, 7.7ms\n",
            "Speed: 2.0ms preprocess, 8.6ms inference, 1.5ms postprocess per image at shape (1, 3, 640, 640)\n",
            "Results saved to \u001b[1mruns/detect/predict\u001b[0m\n",
            "65 labels saved to runs/detect/predict/labels\n"
          ]
        }
      ]
    },
    {
      "cell_type": "code",
      "source": [
        "from IPython.display import display, Image\n",
        "from PIL import Image\n",
        "\n",
        "im1 = Image.open(\"/content/2 (1).jpg\")\n",
        "results = model.predict(source=im1, save=True)\n"
      ],
      "metadata": {
        "id": "JHHtSEEzjsUo",
        "outputId": "e268ff45-8fee-42e8-a913-78265ee2b991",
        "colab": {
          "base_uri": "https://localhost:8080/"
        }
      },
      "execution_count": 10,
      "outputs": [
        {
          "output_type": "stream",
          "name": "stdout",
          "text": [
            "\n",
            "0: 640x640 1 depth, 1 length, 1 width, 8.2ms\n",
            "Speed: 3.7ms preprocess, 8.2ms inference, 1.6ms postprocess per image at shape (1, 3, 640, 640)\n",
            "Results saved to \u001b[1mruns/detect/predict\u001b[0m\n",
            "66 labels saved to runs/detect/predict/labels\n"
          ]
        }
      ]
    },
    {
      "cell_type": "code",
      "source": [
        "import os\n",
        "from PIL import Image\n",
        "from tqdm import tqdm\n",
        "\n",
        "def extract_boxes(image_path, label_path, save_dir):\n",
        "    targets = {'0': 'depth', '1': 'length', '2': 'width'}\n",
        "\n",
        "\n",
        "    if not os.path.exists(save_dir):\n",
        "        os.makedirs(save_dir)\n",
        "\n",
        "\n",
        "    with open(label_path, 'r') as file:\n",
        "        lines = file.readlines()\n",
        "\n",
        "\n",
        "    image = Image.open(image_path)\n",
        "    img_width, img_height = image.size\n",
        "\n",
        "\n",
        "    for line in lines:\n",
        "        parts = line.strip().split()\n",
        "        class_id = parts[0]\n",
        "        x_center, y_center = float(parts[1]), float(parts[2])\n",
        "        width, height = float(parts[3]), float(parts[4])\n",
        "\n",
        "\n",
        "        x_center = x_center * img_width\n",
        "        y_center = y_center * img_height\n",
        "        width = width * img_width\n",
        "        height = height * img_height\n",
        "\n",
        "\n",
        "        left = int(x_center - width / 2)\n",
        "        top = int(y_center - height / 2)\n",
        "        right = int(x_center + width / 2)\n",
        "        bottom = int(y_center + height / 2)\n",
        "\n",
        "\n",
        "        cropped_image = image.crop((left, top, right, bottom))\n",
        "\n",
        "\n",
        "        file_name = f\"{os.path.basename(image_path).split('.')[0]}_{targets[class_id]}.jpg\"\n",
        "        cropped_image.save(os.path.join(save_dir, file_name))\n",
        "\n",
        "\n",
        "image_folder = \"/content/runs/detect/predict\"\n",
        "label_folder = \"/content/runs/detect/predict/labels\"\n",
        "output_folder = \"/content/exxxxxxxx\"\n",
        "\n",
        "\n",
        "\n",
        "image_files = [f for f in os.listdir(image_folder) if f.endswith('.jpg')]\n",
        "\n",
        "\n",
        "for image_file in tqdm(image_files):\n",
        "    base_name = os.path.splitext(image_file)[0]\n",
        "    image_path = os.path.join(image_folder, image_file)\n",
        "    label_path = os.path.join(label_folder, base_name + \".txt\")\n",
        "    save_dir = os.path.join(output_folder, base_name)\n",
        "\n",
        "    extract_boxes(image_path, label_path, save_dir)"
      ],
      "metadata": {
        "id": "XZUAzeMIj6Ce",
        "colab": {
          "base_uri": "https://localhost:8080/"
        },
        "outputId": "3fb2b01f-6bca-4e50-e716-16ce67276e80"
      },
      "execution_count": 11,
      "outputs": [
        {
          "output_type": "stream",
          "name": "stderr",
          "text": [
            "100%|██████████| 66/66 [00:00<00:00, 308.11it/s]\n"
          ]
        }
      ]
    },
    {
      "cell_type": "code",
      "source": [
        "\n",
        "import os\n",
        "import pandas as pd\n",
        "\n",
        "def extract_text_from_image(image_path):\n",
        "    try:\n",
        "\n",
        "        result = api.ocr_file(image_path).split(\" \")[0]\n",
        "        return float(result)\n",
        "    except Exception as e:\n",
        "        print(f\"Error processing {image_path}: {e}\")\n",
        "        return None\n",
        "\n",
        "\n",
        "df = pd.DataFrame(columns=['Image_Name', 'Depth', 'Length', 'Width', 'Volume'])\n",
        "\n",
        "\n",
        "base_dir = \"/content/exxxxxxxx\"\n",
        "\n",
        "\n",
        "for folder in tqdm(os.listdir(base_dir)):\n",
        "    if os.path.isdir(os.path.join(base_dir, folder)):\n",
        "        image_data = {'Image_Name': folder, 'Depth': None, 'Length': None, 'Width': None}\n",
        "\n",
        "\n",
        "        for file in os.listdir(os.path.join(base_dir, folder)):\n",
        "            file_path = os.path.join(base_dir, folder, file)\n",
        "            if 'depth' in file:\n",
        "                image_data['Depth'] = extract_text_from_image(file_path)\n",
        "            elif 'length' in file:\n",
        "                image_data['Length'] = extract_text_from_image(file_path)\n",
        "            elif 'width' in file:\n",
        "                image_data['Width'] = extract_text_from_image(file_path)\n",
        "\n",
        "\n",
        "        if None not in image_data.values():\n",
        "            image_data['Volume'] = image_data['Depth'] * image_data['Length'] * image_data['Width']\n",
        "\n",
        "\n",
        "        df = pd.concat([df, pd.DataFrame([image_data])], ignore_index=True)\n",
        "\n",
        "\n",
        "df.to_csv(\"/content/measurement_data.csv\", index=False)\n",
        "\n",
        "\n",
        "df"
      ],
      "metadata": {
        "id": "Q2yHa7zlkHN7",
        "colab": {
          "base_uri": "https://localhost:8080/",
          "height": 843
        },
        "outputId": "223d3400-f332-4204-8f01-7845332b1d2a"
      },
      "execution_count": 12,
      "outputs": [
        {
          "output_type": "stream",
          "name": "stderr",
          "text": [
            " 24%|██▍       | 16/66 [01:09<03:39,  4.39s/it]"
          ]
        },
        {
          "output_type": "stream",
          "name": "stdout",
          "text": [
            "Error processing /content/exxxxxxxx/1-30-_jpg.rf.f405cc0cbb9240dee8f463a50022d4da/1-30-_jpg_length.jpg: could not convert string to float: ''\n"
          ]
        },
        {
          "output_type": "stream",
          "name": "stderr",
          "text": [
            " 29%|██▉       | 19/66 [01:22<03:21,  4.29s/it]"
          ]
        },
        {
          "output_type": "stream",
          "name": "stdout",
          "text": [
            "Error processing /content/exxxxxxxx/1-111-_jpg.rf.5db7274a2216e30762b8bab99dc6a6d6/1-111-_jpg_width.jpg: could not convert string to float: ''\n"
          ]
        },
        {
          "output_type": "stream",
          "name": "stderr",
          "text": [
            "\r 30%|███       | 20/66 [01:26<03:18,  4.31s/it]"
          ]
        },
        {
          "output_type": "stream",
          "name": "stdout",
          "text": [
            "Error processing /content/exxxxxxxx/1-111-_jpg.rf.5db7274a2216e30762b8bab99dc6a6d6/1-111-_jpg_depth.jpg: could not convert string to float: ''\n"
          ]
        },
        {
          "output_type": "stream",
          "name": "stderr",
          "text": [
            " 52%|█████▏    | 34/66 [02:25<02:10,  4.06s/it]"
          ]
        },
        {
          "output_type": "stream",
          "name": "stdout",
          "text": [
            "Error processing /content/exxxxxxxx/1-106-_jpg.rf.cf054ba87c0d43459e2159d288db0f28/1-106-_jpg_length.jpg: could not convert string to float: 'HIS\\n35'\n"
          ]
        },
        {
          "output_type": "stream",
          "name": "stderr",
          "text": [
            "\r 53%|█████▎    | 35/66 [02:30<02:11,  4.24s/it]"
          ]
        },
        {
          "output_type": "stream",
          "name": "stdout",
          "text": [
            "Error processing /content/exxxxxxxx/1-56-_jpg.rf.88f1a4ffd4065d2d317c146b49f8b9f3/1-56-_jpg_depth.jpg: could not convert string to float: ''\n"
          ]
        },
        {
          "output_type": "stream",
          "name": "stderr",
          "text": [
            " 58%|█████▊    | 38/66 [02:43<02:02,  4.37s/it]"
          ]
        },
        {
          "output_type": "stream",
          "name": "stdout",
          "text": [
            "Error processing /content/exxxxxxxx/1-32-_jpg.rf.2779ca752dfbce06a1aeaf08568d168a/1-32-_jpg_length.jpg: could not convert string to float: ''\n"
          ]
        },
        {
          "output_type": "stream",
          "name": "stderr",
          "text": [
            " 62%|██████▏   | 41/66 [02:56<01:49,  4.40s/it]"
          ]
        },
        {
          "output_type": "stream",
          "name": "stdout",
          "text": [
            "Error processing /content/exxxxxxxx/1-26-_jpg.rf.5d426a7d173834bf5a80f5112533ff8c/1-26-_jpg_width.jpg: could not convert string to float: ''\n"
          ]
        },
        {
          "output_type": "stream",
          "name": "stderr",
          "text": [
            " 92%|█████████▏| 61/66 [04:20<00:21,  4.30s/it]"
          ]
        },
        {
          "output_type": "stream",
          "name": "stdout",
          "text": [
            "Error processing /content/exxxxxxxx/1-35-_jpg.rf.a8a17b44eb1bb3cc2ae28e3a2de0c259/1-35-_jpg_depth.jpg: You may only perform this action upto maximum 180 number of times within 3600 seconds\n",
            "Error processing /content/exxxxxxxx/1-35-_jpg.rf.a8a17b44eb1bb3cc2ae28e3a2de0c259/1-35-_jpg_length.jpg: You may only perform this action upto maximum 180 number of times within 3600 seconds\n"
          ]
        },
        {
          "output_type": "stream",
          "name": "stderr",
          "text": [
            "\r 94%|█████████▍| 62/66 [04:23<00:14,  3.74s/it]"
          ]
        },
        {
          "output_type": "stream",
          "name": "stdout",
          "text": [
            "Error processing /content/exxxxxxxx/1-35-_jpg.rf.a8a17b44eb1bb3cc2ae28e3a2de0c259/1-35-_jpg_width.jpg: You may only perform this action upto maximum 180 number of times within 3600 seconds\n",
            "Error processing /content/exxxxxxxx/1-133-_jpg.rf.378c966c2a173ba6a251181c4a4d9d28/1-133-_jpg_length.jpg: You may only perform this action upto maximum 180 number of times within 3600 seconds\n",
            "Error processing /content/exxxxxxxx/1-133-_jpg.rf.378c966c2a173ba6a251181c4a4d9d28/1-133-_jpg_width.jpg: You may only perform this action upto maximum 180 number of times within 3600 seconds\n"
          ]
        },
        {
          "output_type": "stream",
          "name": "stderr",
          "text": [
            "\r 95%|█████████▌| 63/66 [04:25<00:10,  3.34s/it]"
          ]
        },
        {
          "output_type": "stream",
          "name": "stdout",
          "text": [
            "Error processing /content/exxxxxxxx/1-133-_jpg.rf.378c966c2a173ba6a251181c4a4d9d28/1-133-_jpg_depth.jpg: You may only perform this action upto maximum 180 number of times within 3600 seconds\n",
            "Error processing /content/exxxxxxxx/2 (1)/2 (1)_length.jpg: You may only perform this action upto maximum 180 number of times within 3600 seconds\n",
            "Error processing /content/exxxxxxxx/2 (1)/2 (1)_width.jpg: You may only perform this action upto maximum 180 number of times within 3600 seconds\n"
          ]
        },
        {
          "output_type": "stream",
          "name": "stderr",
          "text": [
            "\r 97%|█████████▋| 64/66 [04:27<00:06,  3.06s/it]"
          ]
        },
        {
          "output_type": "stream",
          "name": "stdout",
          "text": [
            "Error processing /content/exxxxxxxx/2 (1)/2 (1)_depth.jpg: You may only perform this action upto maximum 180 number of times within 3600 seconds\n",
            "Error processing /content/exxxxxxxx/1-38-_jpg.rf.48acb9c134fea1faaa2dc8200d98ce9c/1-38-_jpg_length.jpg: You may only perform this action upto maximum 180 number of times within 3600 seconds\n",
            "Error processing /content/exxxxxxxx/1-38-_jpg.rf.48acb9c134fea1faaa2dc8200d98ce9c/1-38-_jpg_depth.jpg: You may only perform this action upto maximum 180 number of times within 3600 seconds\n"
          ]
        },
        {
          "output_type": "stream",
          "name": "stderr",
          "text": [
            "\r 98%|█████████▊| 65/66 [04:30<00:02,  2.86s/it]"
          ]
        },
        {
          "output_type": "stream",
          "name": "stdout",
          "text": [
            "Error processing /content/exxxxxxxx/1-38-_jpg.rf.48acb9c134fea1faaa2dc8200d98ce9c/1-38-_jpg_width.jpg: You may only perform this action upto maximum 180 number of times within 3600 seconds\n",
            "Error processing /content/exxxxxxxx/1-122-_jpg.rf.f07d40e532565cb22a35b434ca8601dc/1-122-_jpg_width.jpg: You may only perform this action upto maximum 180 number of times within 3600 seconds\n",
            "Error processing /content/exxxxxxxx/1-122-_jpg.rf.f07d40e532565cb22a35b434ca8601dc/1-122-_jpg_depth.jpg: You may only perform this action upto maximum 180 number of times within 3600 seconds\n"
          ]
        },
        {
          "output_type": "stream",
          "name": "stderr",
          "text": [
            "100%|██████████| 66/66 [04:32<00:00,  4.13s/it]"
          ]
        },
        {
          "output_type": "stream",
          "name": "stdout",
          "text": [
            "Error processing /content/exxxxxxxx/1-122-_jpg.rf.f07d40e532565cb22a35b434ca8601dc/1-122-_jpg_length.jpg: You may only perform this action upto maximum 180 number of times within 3600 seconds\n"
          ]
        },
        {
          "output_type": "stream",
          "name": "stderr",
          "text": [
            "\n"
          ]
        },
        {
          "output_type": "execute_result",
          "data": {
            "text/plain": [
              "                                        Image_Name  Depth  Length  Width  \\\n",
              "0    1-78-_jpg.rf.59d45401683beadca2d5754869443cf2   24.0    50.0   47.0   \n",
              "1     1-9-_jpg.rf.1f7ec33e2ac3a1d7929dd74c597dd54a   54.0    58.0   41.0   \n",
              "2    1-94-_jpg.rf.54d056aa0c74e2f0ea8b70551beeb01f   34.0    49.0   22.0   \n",
              "3   1-102-_jpg.rf.6b5a6a3c455521552d7c0f6f63d158b7   74.0    40.0   23.0   \n",
              "4    1-27-_jpg.rf.4af47fe584f9b03016fc0cb3b9c25395   24.0    25.0   25.0   \n",
              "..                                             ...    ...     ...    ...   \n",
              "61   1-35-_jpg.rf.a8a17b44eb1bb3cc2ae28e3a2de0c259    NaN     NaN    NaN   \n",
              "62  1-133-_jpg.rf.378c966c2a173ba6a251181c4a4d9d28    NaN     NaN    NaN   \n",
              "63                                           2 (1)    NaN     NaN    NaN   \n",
              "64   1-38-_jpg.rf.48acb9c134fea1faaa2dc8200d98ce9c    NaN     NaN    NaN   \n",
              "65  1-122-_jpg.rf.f07d40e532565cb22a35b434ca8601dc    NaN     NaN    NaN   \n",
              "\n",
              "      Volume  \n",
              "0    56400.0  \n",
              "1   128412.0  \n",
              "2    36652.0  \n",
              "3    68080.0  \n",
              "4    15000.0  \n",
              "..       ...  \n",
              "61       NaN  \n",
              "62       NaN  \n",
              "63       NaN  \n",
              "64       NaN  \n",
              "65       NaN  \n",
              "\n",
              "[66 rows x 5 columns]"
            ],
            "text/html": [
              "\n",
              "  <div id=\"df-582b30f6-4d9b-40e7-a57f-ebbd250b8af1\" class=\"colab-df-container\">\n",
              "    <div>\n",
              "<style scoped>\n",
              "    .dataframe tbody tr th:only-of-type {\n",
              "        vertical-align: middle;\n",
              "    }\n",
              "\n",
              "    .dataframe tbody tr th {\n",
              "        vertical-align: top;\n",
              "    }\n",
              "\n",
              "    .dataframe thead th {\n",
              "        text-align: right;\n",
              "    }\n",
              "</style>\n",
              "<table border=\"1\" class=\"dataframe\">\n",
              "  <thead>\n",
              "    <tr style=\"text-align: right;\">\n",
              "      <th></th>\n",
              "      <th>Image_Name</th>\n",
              "      <th>Depth</th>\n",
              "      <th>Length</th>\n",
              "      <th>Width</th>\n",
              "      <th>Volume</th>\n",
              "    </tr>\n",
              "  </thead>\n",
              "  <tbody>\n",
              "    <tr>\n",
              "      <th>0</th>\n",
              "      <td>1-78-_jpg.rf.59d45401683beadca2d5754869443cf2</td>\n",
              "      <td>24.0</td>\n",
              "      <td>50.0</td>\n",
              "      <td>47.0</td>\n",
              "      <td>56400.0</td>\n",
              "    </tr>\n",
              "    <tr>\n",
              "      <th>1</th>\n",
              "      <td>1-9-_jpg.rf.1f7ec33e2ac3a1d7929dd74c597dd54a</td>\n",
              "      <td>54.0</td>\n",
              "      <td>58.0</td>\n",
              "      <td>41.0</td>\n",
              "      <td>128412.0</td>\n",
              "    </tr>\n",
              "    <tr>\n",
              "      <th>2</th>\n",
              "      <td>1-94-_jpg.rf.54d056aa0c74e2f0ea8b70551beeb01f</td>\n",
              "      <td>34.0</td>\n",
              "      <td>49.0</td>\n",
              "      <td>22.0</td>\n",
              "      <td>36652.0</td>\n",
              "    </tr>\n",
              "    <tr>\n",
              "      <th>3</th>\n",
              "      <td>1-102-_jpg.rf.6b5a6a3c455521552d7c0f6f63d158b7</td>\n",
              "      <td>74.0</td>\n",
              "      <td>40.0</td>\n",
              "      <td>23.0</td>\n",
              "      <td>68080.0</td>\n",
              "    </tr>\n",
              "    <tr>\n",
              "      <th>4</th>\n",
              "      <td>1-27-_jpg.rf.4af47fe584f9b03016fc0cb3b9c25395</td>\n",
              "      <td>24.0</td>\n",
              "      <td>25.0</td>\n",
              "      <td>25.0</td>\n",
              "      <td>15000.0</td>\n",
              "    </tr>\n",
              "    <tr>\n",
              "      <th>...</th>\n",
              "      <td>...</td>\n",
              "      <td>...</td>\n",
              "      <td>...</td>\n",
              "      <td>...</td>\n",
              "      <td>...</td>\n",
              "    </tr>\n",
              "    <tr>\n",
              "      <th>61</th>\n",
              "      <td>1-35-_jpg.rf.a8a17b44eb1bb3cc2ae28e3a2de0c259</td>\n",
              "      <td>NaN</td>\n",
              "      <td>NaN</td>\n",
              "      <td>NaN</td>\n",
              "      <td>NaN</td>\n",
              "    </tr>\n",
              "    <tr>\n",
              "      <th>62</th>\n",
              "      <td>1-133-_jpg.rf.378c966c2a173ba6a251181c4a4d9d28</td>\n",
              "      <td>NaN</td>\n",
              "      <td>NaN</td>\n",
              "      <td>NaN</td>\n",
              "      <td>NaN</td>\n",
              "    </tr>\n",
              "    <tr>\n",
              "      <th>63</th>\n",
              "      <td>2 (1)</td>\n",
              "      <td>NaN</td>\n",
              "      <td>NaN</td>\n",
              "      <td>NaN</td>\n",
              "      <td>NaN</td>\n",
              "    </tr>\n",
              "    <tr>\n",
              "      <th>64</th>\n",
              "      <td>1-38-_jpg.rf.48acb9c134fea1faaa2dc8200d98ce9c</td>\n",
              "      <td>NaN</td>\n",
              "      <td>NaN</td>\n",
              "      <td>NaN</td>\n",
              "      <td>NaN</td>\n",
              "    </tr>\n",
              "    <tr>\n",
              "      <th>65</th>\n",
              "      <td>1-122-_jpg.rf.f07d40e532565cb22a35b434ca8601dc</td>\n",
              "      <td>NaN</td>\n",
              "      <td>NaN</td>\n",
              "      <td>NaN</td>\n",
              "      <td>NaN</td>\n",
              "    </tr>\n",
              "  </tbody>\n",
              "</table>\n",
              "<p>66 rows × 5 columns</p>\n",
              "</div>\n",
              "    <div class=\"colab-df-buttons\">\n",
              "\n",
              "  <div class=\"colab-df-container\">\n",
              "    <button class=\"colab-df-convert\" onclick=\"convertToInteractive('df-582b30f6-4d9b-40e7-a57f-ebbd250b8af1')\"\n",
              "            title=\"Convert this dataframe to an interactive table.\"\n",
              "            style=\"display:none;\">\n",
              "\n",
              "  <svg xmlns=\"http://www.w3.org/2000/svg\" height=\"24px\" viewBox=\"0 -960 960 960\">\n",
              "    <path d=\"M120-120v-720h720v720H120Zm60-500h600v-160H180v160Zm220 220h160v-160H400v160Zm0 220h160v-160H400v160ZM180-400h160v-160H180v160Zm440 0h160v-160H620v160ZM180-180h160v-160H180v160Zm440 0h160v-160H620v160Z\"/>\n",
              "  </svg>\n",
              "    </button>\n",
              "\n",
              "  <style>\n",
              "    .colab-df-container {\n",
              "      display:flex;\n",
              "      gap: 12px;\n",
              "    }\n",
              "\n",
              "    .colab-df-convert {\n",
              "      background-color: #E8F0FE;\n",
              "      border: none;\n",
              "      border-radius: 50%;\n",
              "      cursor: pointer;\n",
              "      display: none;\n",
              "      fill: #1967D2;\n",
              "      height: 32px;\n",
              "      padding: 0 0 0 0;\n",
              "      width: 32px;\n",
              "    }\n",
              "\n",
              "    .colab-df-convert:hover {\n",
              "      background-color: #E2EBFA;\n",
              "      box-shadow: 0px 1px 2px rgba(60, 64, 67, 0.3), 0px 1px 3px 1px rgba(60, 64, 67, 0.15);\n",
              "      fill: #174EA6;\n",
              "    }\n",
              "\n",
              "    .colab-df-buttons div {\n",
              "      margin-bottom: 4px;\n",
              "    }\n",
              "\n",
              "    [theme=dark] .colab-df-convert {\n",
              "      background-color: #3B4455;\n",
              "      fill: #D2E3FC;\n",
              "    }\n",
              "\n",
              "    [theme=dark] .colab-df-convert:hover {\n",
              "      background-color: #434B5C;\n",
              "      box-shadow: 0px 1px 3px 1px rgba(0, 0, 0, 0.15);\n",
              "      filter: drop-shadow(0px 1px 2px rgba(0, 0, 0, 0.3));\n",
              "      fill: #FFFFFF;\n",
              "    }\n",
              "  </style>\n",
              "\n",
              "    <script>\n",
              "      const buttonEl =\n",
              "        document.querySelector('#df-582b30f6-4d9b-40e7-a57f-ebbd250b8af1 button.colab-df-convert');\n",
              "      buttonEl.style.display =\n",
              "        google.colab.kernel.accessAllowed ? 'block' : 'none';\n",
              "\n",
              "      async function convertToInteractive(key) {\n",
              "        const element = document.querySelector('#df-582b30f6-4d9b-40e7-a57f-ebbd250b8af1');\n",
              "        const dataTable =\n",
              "          await google.colab.kernel.invokeFunction('convertToInteractive',\n",
              "                                                    [key], {});\n",
              "        if (!dataTable) return;\n",
              "\n",
              "        const docLinkHtml = 'Like what you see? Visit the ' +\n",
              "          '<a target=\"_blank\" href=https://colab.research.google.com/notebooks/data_table.ipynb>data table notebook</a>'\n",
              "          + ' to learn more about interactive tables.';\n",
              "        element.innerHTML = '';\n",
              "        dataTable['output_type'] = 'display_data';\n",
              "        await google.colab.output.renderOutput(dataTable, element);\n",
              "        const docLink = document.createElement('div');\n",
              "        docLink.innerHTML = docLinkHtml;\n",
              "        element.appendChild(docLink);\n",
              "      }\n",
              "    </script>\n",
              "  </div>\n",
              "\n",
              "\n",
              "<div id=\"df-ea4455e9-8be5-4f73-a9e0-048a2984b6e4\">\n",
              "  <button class=\"colab-df-quickchart\" onclick=\"quickchart('df-ea4455e9-8be5-4f73-a9e0-048a2984b6e4')\"\n",
              "            title=\"Suggest charts\"\n",
              "            style=\"display:none;\">\n",
              "\n",
              "<svg xmlns=\"http://www.w3.org/2000/svg\" height=\"24px\"viewBox=\"0 0 24 24\"\n",
              "     width=\"24px\">\n",
              "    <g>\n",
              "        <path d=\"M19 3H5c-1.1 0-2 .9-2 2v14c0 1.1.9 2 2 2h14c1.1 0 2-.9 2-2V5c0-1.1-.9-2-2-2zM9 17H7v-7h2v7zm4 0h-2V7h2v10zm4 0h-2v-4h2v4z\"/>\n",
              "    </g>\n",
              "</svg>\n",
              "  </button>\n",
              "\n",
              "<style>\n",
              "  .colab-df-quickchart {\n",
              "      --bg-color: #E8F0FE;\n",
              "      --fill-color: #1967D2;\n",
              "      --hover-bg-color: #E2EBFA;\n",
              "      --hover-fill-color: #174EA6;\n",
              "      --disabled-fill-color: #AAA;\n",
              "      --disabled-bg-color: #DDD;\n",
              "  }\n",
              "\n",
              "  [theme=dark] .colab-df-quickchart {\n",
              "      --bg-color: #3B4455;\n",
              "      --fill-color: #D2E3FC;\n",
              "      --hover-bg-color: #434B5C;\n",
              "      --hover-fill-color: #FFFFFF;\n",
              "      --disabled-bg-color: #3B4455;\n",
              "      --disabled-fill-color: #666;\n",
              "  }\n",
              "\n",
              "  .colab-df-quickchart {\n",
              "    background-color: var(--bg-color);\n",
              "    border: none;\n",
              "    border-radius: 50%;\n",
              "    cursor: pointer;\n",
              "    display: none;\n",
              "    fill: var(--fill-color);\n",
              "    height: 32px;\n",
              "    padding: 0;\n",
              "    width: 32px;\n",
              "  }\n",
              "\n",
              "  .colab-df-quickchart:hover {\n",
              "    background-color: var(--hover-bg-color);\n",
              "    box-shadow: 0 1px 2px rgba(60, 64, 67, 0.3), 0 1px 3px 1px rgba(60, 64, 67, 0.15);\n",
              "    fill: var(--button-hover-fill-color);\n",
              "  }\n",
              "\n",
              "  .colab-df-quickchart-complete:disabled,\n",
              "  .colab-df-quickchart-complete:disabled:hover {\n",
              "    background-color: var(--disabled-bg-color);\n",
              "    fill: var(--disabled-fill-color);\n",
              "    box-shadow: none;\n",
              "  }\n",
              "\n",
              "  .colab-df-spinner {\n",
              "    border: 2px solid var(--fill-color);\n",
              "    border-color: transparent;\n",
              "    border-bottom-color: var(--fill-color);\n",
              "    animation:\n",
              "      spin 1s steps(1) infinite;\n",
              "  }\n",
              "\n",
              "  @keyframes spin {\n",
              "    0% {\n",
              "      border-color: transparent;\n",
              "      border-bottom-color: var(--fill-color);\n",
              "      border-left-color: var(--fill-color);\n",
              "    }\n",
              "    20% {\n",
              "      border-color: transparent;\n",
              "      border-left-color: var(--fill-color);\n",
              "      border-top-color: var(--fill-color);\n",
              "    }\n",
              "    30% {\n",
              "      border-color: transparent;\n",
              "      border-left-color: var(--fill-color);\n",
              "      border-top-color: var(--fill-color);\n",
              "      border-right-color: var(--fill-color);\n",
              "    }\n",
              "    40% {\n",
              "      border-color: transparent;\n",
              "      border-right-color: var(--fill-color);\n",
              "      border-top-color: var(--fill-color);\n",
              "    }\n",
              "    60% {\n",
              "      border-color: transparent;\n",
              "      border-right-color: var(--fill-color);\n",
              "    }\n",
              "    80% {\n",
              "      border-color: transparent;\n",
              "      border-right-color: var(--fill-color);\n",
              "      border-bottom-color: var(--fill-color);\n",
              "    }\n",
              "    90% {\n",
              "      border-color: transparent;\n",
              "      border-bottom-color: var(--fill-color);\n",
              "    }\n",
              "  }\n",
              "</style>\n",
              "\n",
              "  <script>\n",
              "    async function quickchart(key) {\n",
              "      const quickchartButtonEl =\n",
              "        document.querySelector('#' + key + ' button');\n",
              "      quickchartButtonEl.disabled = true;  // To prevent multiple clicks.\n",
              "      quickchartButtonEl.classList.add('colab-df-spinner');\n",
              "      try {\n",
              "        const charts = await google.colab.kernel.invokeFunction(\n",
              "            'suggestCharts', [key], {});\n",
              "      } catch (error) {\n",
              "        console.error('Error during call to suggestCharts:', error);\n",
              "      }\n",
              "      quickchartButtonEl.classList.remove('colab-df-spinner');\n",
              "      quickchartButtonEl.classList.add('colab-df-quickchart-complete');\n",
              "    }\n",
              "    (() => {\n",
              "      let quickchartButtonEl =\n",
              "        document.querySelector('#df-ea4455e9-8be5-4f73-a9e0-048a2984b6e4 button');\n",
              "      quickchartButtonEl.style.display =\n",
              "        google.colab.kernel.accessAllowed ? 'block' : 'none';\n",
              "    })();\n",
              "  </script>\n",
              "</div>\n",
              "\n",
              "  <div id=\"id_1b6ac9f8-b99f-4585-a9e5-e4fee530fbee\">\n",
              "    <style>\n",
              "      .colab-df-generate {\n",
              "        background-color: #E8F0FE;\n",
              "        border: none;\n",
              "        border-radius: 50%;\n",
              "        cursor: pointer;\n",
              "        display: none;\n",
              "        fill: #1967D2;\n",
              "        height: 32px;\n",
              "        padding: 0 0 0 0;\n",
              "        width: 32px;\n",
              "      }\n",
              "\n",
              "      .colab-df-generate:hover {\n",
              "        background-color: #E2EBFA;\n",
              "        box-shadow: 0px 1px 2px rgba(60, 64, 67, 0.3), 0px 1px 3px 1px rgba(60, 64, 67, 0.15);\n",
              "        fill: #174EA6;\n",
              "      }\n",
              "\n",
              "      [theme=dark] .colab-df-generate {\n",
              "        background-color: #3B4455;\n",
              "        fill: #D2E3FC;\n",
              "      }\n",
              "\n",
              "      [theme=dark] .colab-df-generate:hover {\n",
              "        background-color: #434B5C;\n",
              "        box-shadow: 0px 1px 3px 1px rgba(0, 0, 0, 0.15);\n",
              "        filter: drop-shadow(0px 1px 2px rgba(0, 0, 0, 0.3));\n",
              "        fill: #FFFFFF;\n",
              "      }\n",
              "    </style>\n",
              "    <button class=\"colab-df-generate\" onclick=\"generateWithVariable('df')\"\n",
              "            title=\"Generate code using this dataframe.\"\n",
              "            style=\"display:none;\">\n",
              "\n",
              "  <svg xmlns=\"http://www.w3.org/2000/svg\" height=\"24px\"viewBox=\"0 0 24 24\"\n",
              "       width=\"24px\">\n",
              "    <path d=\"M7,19H8.4L18.45,9,17,7.55,7,17.6ZM5,21V16.75L18.45,3.32a2,2,0,0,1,2.83,0l1.4,1.43a1.91,1.91,0,0,1,.58,1.4,1.91,1.91,0,0,1-.58,1.4L9.25,21ZM18.45,9,17,7.55Zm-12,3A5.31,5.31,0,0,0,4.9,8.1,5.31,5.31,0,0,0,1,6.5,5.31,5.31,0,0,0,4.9,4.9,5.31,5.31,0,0,0,6.5,1,5.31,5.31,0,0,0,8.1,4.9,5.31,5.31,0,0,0,12,6.5,5.46,5.46,0,0,0,6.5,12Z\"/>\n",
              "  </svg>\n",
              "    </button>\n",
              "    <script>\n",
              "      (() => {\n",
              "      const buttonEl =\n",
              "        document.querySelector('#id_1b6ac9f8-b99f-4585-a9e5-e4fee530fbee button.colab-df-generate');\n",
              "      buttonEl.style.display =\n",
              "        google.colab.kernel.accessAllowed ? 'block' : 'none';\n",
              "\n",
              "      buttonEl.onclick = () => {\n",
              "        google.colab.notebook.generateWithVariable('df');\n",
              "      }\n",
              "      })();\n",
              "    </script>\n",
              "  </div>\n",
              "\n",
              "    </div>\n",
              "  </div>\n"
            ],
            "application/vnd.google.colaboratory.intrinsic+json": {
              "type": "dataframe",
              "variable_name": "df",
              "summary": "{\n  \"name\": \"df\",\n  \"rows\": 66,\n  \"fields\": [\n    {\n      \"column\": \"Image_Name\",\n      \"properties\": {\n        \"dtype\": \"string\",\n        \"num_unique_values\": 66,\n        \"samples\": [\n          \"1-20-_jpg.rf.e95117c60c612b2248188f3f2b00ae2f\",\n          \"1-133-_jpg.rf.378c966c2a173ba6a251181c4a4d9d28\",\n          \"1-78-_jpg.rf.59d45401683beadca2d5754869443cf2\"\n        ],\n        \"semantic_type\": \"\",\n        \"description\": \"\"\n      }\n    },\n    {\n      \"column\": \"Depth\",\n      \"properties\": {\n        \"dtype\": \"number\",\n        \"std\": 14.55933666223906,\n        \"min\": 3.0,\n        \"max\": 74.0,\n        \"num_unique_values\": 35,\n        \"samples\": [\n          6.0,\n          9.0,\n          35.0\n        ],\n        \"semantic_type\": \"\",\n        \"description\": \"\"\n      }\n    },\n    {\n      \"column\": \"Length\",\n      \"properties\": {\n        \"dtype\": \"number\",\n        \"std\": 14.846399712239478,\n        \"min\": 9.0,\n        \"max\": 72.0,\n        \"num_unique_values\": 35,\n        \"samples\": [\n          66.0,\n          52.0,\n          53.0\n        ],\n        \"semantic_type\": \"\",\n        \"description\": \"\"\n      }\n    },\n    {\n      \"column\": \"Width\",\n      \"properties\": {\n        \"dtype\": \"number\",\n        \"std\": 12.9874060640854,\n        \"min\": 4.0,\n        \"max\": 57.0,\n        \"num_unique_values\": 36,\n        \"samples\": [\n          45.0,\n          11.0,\n          36.0\n        ],\n        \"semantic_type\": \"\",\n        \"description\": \"\"\n      }\n    },\n    {\n      \"column\": \"Volume\",\n      \"properties\": {\n        \"dtype\": \"number\",\n        \"std\": 41661.40311752126,\n        \"min\": 432.0,\n        \"max\": 213696.0,\n        \"num_unique_values\": 52,\n        \"samples\": [\n          53856.0,\n          47652.0,\n          25375.0\n        ],\n        \"semantic_type\": \"\",\n        \"description\": \"\"\n      }\n    }\n  ]\n}"
            }
          },
          "metadata": {},
          "execution_count": 12
        }
      ]
    },
    {
      "cell_type": "code",
      "source": [
        "import math\n",
        "\n",
        "def calculate_volume(length, width, depth):\n",
        "\n",
        "    if length <= 1.50:\n",
        "        length *= 100\n",
        "    if width <= 1.50:\n",
        "        width *= 100\n",
        "    if depth <= 3:\n",
        "        depth *= 100\n",
        "\n",
        "    volume = length * width * depth\n",
        "    return volume\n",
        "\n",
        "\n",
        "num_boxes = int(input(\"Enter the number of boxes: \"))\n",
        "\n",
        "\n",
        "x1 = df.iloc[9, 1]\n",
        "x2 = df.iloc[9, 2]\n",
        "x3 = df.iloc[9, 3]\n",
        "\n",
        "\n",
        "box_length = float(x3)\n",
        "box_width = float(x2)\n",
        "box_depth = float(x1)\n",
        "\n",
        "box_volume = calculate_volume(box_length, box_width, box_depth)\n",
        "\n",
        "\n",
        "pallet_length = 100\n",
        "pallet_width = 150\n",
        "pallet_depth = 300\n",
        "\n",
        "pallet_volume = calculate_volume(pallet_length, pallet_width, pallet_depth)\n",
        "\n",
        "\n",
        "num_pallets = math.ceil(num_boxes * box_volume / pallet_volume)\n",
        "\n",
        "print(\"Number of pallets needed:\", num_pallets)"
      ],
      "metadata": {
        "id": "gnGScwXekWC-",
        "colab": {
          "base_uri": "https://localhost:8080/"
        },
        "outputId": "6ea084b0-98fa-480b-cdf4-f3683f3d5bc2"
      },
      "execution_count": 14,
      "outputs": [
        {
          "output_type": "stream",
          "name": "stdout",
          "text": [
            "Enter the number of boxes: 1000\n",
            "Number of pallets needed: 3\n"
          ]
        }
      ]
    }
  ]
}